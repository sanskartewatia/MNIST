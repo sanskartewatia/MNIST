{
 "cells": [
  {
   "cell_type": "code",
   "execution_count": 5,
   "id": "damaged-breath",
   "metadata": {},
   "outputs": [],
   "source": [
    "from tensorflow import keras \n",
    "import tensorflow as tf\n",
    "from tensorflow.keras.utils import to_categorical\n",
    "from numpy import mean\n",
    "from numpy import std\n",
    "from matplotlib import pyplot\n",
    "from tensorflow.keras import layers\n",
    "from sklearn.model_selection import KFold\n",
    "from tensorflow.keras.datasets import mnist\n",
    "from tensorflow.keras.models import Sequential\n",
    "from tensorflow.keras.layers import Conv2D\n",
    "from tensorflow.keras.layers import MaxPooling2D\n",
    "from tensorflow.keras.layers import Dense\n",
    "from tensorflow.keras.layers import Flatten\n",
    "from tensorflow.keras.optimizers import SGD\n",
    "from tensorflow.keras.optimizers import Adam\n",
    "from tensorflow.keras.callbacks import EarlyStopping\n",
    "from sklearn.utils import shuffle\n",
    "from sklearn.preprocessing import MinMaxScaler\n",
    "from sklearn import preprocessing"
   ]
  },
  {
   "cell_type": "code",
   "execution_count": 6,
   "id": "manufactured-partition",
   "metadata": {},
   "outputs": [],
   "source": [
    "(trainX, trainY), (testX, testY) = mnist.load_data()\n",
    "trainX = trainX.reshape((trainX.shape[0], 28, 28, 1))\n",
    "testX = testX.reshape((testX.shape[0], 28, 28, 1))\n",
    "trainY = to_categorical(trainY)\n",
    "testY = to_categorical(testY)\n",
    "\t\n",
    "train_norm = trainX.astype('float32')\n",
    "test_norm = testX.astype('float32')\n",
    "train_norm = train_norm / 255.0\n",
    "test_norm = test_norm / 255.0\n"
   ]
  },
  {
   "cell_type": "code",
   "execution_count": 18,
   "id": "swiss-journalist",
   "metadata": {},
   "outputs": [
    {
     "name": "stdout",
     "output_type": "stream",
     "text": [
      "Epoch 1/20\n",
      "3000/3000 - 4s - loss: 0.2792 - accuracy: 0.9168 - val_loss: 0.1788 - val_accuracy: 0.9481\n",
      "Epoch 2/20\n",
      "3000/3000 - 4s - loss: 0.1416 - accuracy: 0.9579 - val_loss: 0.1222 - val_accuracy: 0.9628\n",
      "Epoch 3/20\n",
      "3000/3000 - 4s - loss: 0.1040 - accuracy: 0.9685 - val_loss: 0.1022 - val_accuracy: 0.9695\n",
      "Epoch 4/20\n",
      "3000/3000 - 4s - loss: 0.0828 - accuracy: 0.9748 - val_loss: 0.0861 - val_accuracy: 0.9747\n",
      "Epoch 5/20\n",
      "3000/3000 - 4s - loss: 0.0679 - accuracy: 0.9792 - val_loss: 0.0812 - val_accuracy: 0.9781\n",
      "Epoch 6/20\n",
      "3000/3000 - 4s - loss: 0.0573 - accuracy: 0.9829 - val_loss: 0.0743 - val_accuracy: 0.9784\n",
      "Epoch 7/20\n",
      "3000/3000 - 4s - loss: 0.0491 - accuracy: 0.9848 - val_loss: 0.0733 - val_accuracy: 0.9792\n",
      "Epoch 8/20\n",
      "3000/3000 - 4s - loss: 0.0425 - accuracy: 0.9874 - val_loss: 0.0700 - val_accuracy: 0.9790\n",
      "Epoch 9/20\n",
      "3000/3000 - 4s - loss: 0.0373 - accuracy: 0.9888 - val_loss: 0.0733 - val_accuracy: 0.9795\n",
      "Epoch 10/20\n",
      "3000/3000 - 4s - loss: 0.0330 - accuracy: 0.9900 - val_loss: 0.0643 - val_accuracy: 0.9811\n",
      "Epoch 11/20\n",
      "3000/3000 - 4s - loss: 0.0282 - accuracy: 0.9921 - val_loss: 0.0664 - val_accuracy: 0.9795\n",
      "Epoch 12/20\n",
      "3000/3000 - 4s - loss: 0.0254 - accuracy: 0.9925 - val_loss: 0.0674 - val_accuracy: 0.9803\n",
      "Epoch 13/20\n",
      "3000/3000 - 4s - loss: 0.0230 - accuracy: 0.9934 - val_loss: 0.0613 - val_accuracy: 0.9815\n",
      "Epoch 14/20\n",
      "3000/3000 - 4s - loss: 0.0199 - accuracy: 0.9943 - val_loss: 0.0597 - val_accuracy: 0.9837\n",
      "Epoch 15/20\n",
      "3000/3000 - 4s - loss: 0.0172 - accuracy: 0.9954 - val_loss: 0.0567 - val_accuracy: 0.9845\n",
      "Epoch 16/20\n",
      "3000/3000 - 4s - loss: 0.0152 - accuracy: 0.9960 - val_loss: 0.0598 - val_accuracy: 0.9831\n",
      "Epoch 17/20\n",
      "3000/3000 - 4s - loss: 0.0134 - accuracy: 0.9966 - val_loss: 0.0604 - val_accuracy: 0.9827\n",
      "Epoch 18/20\n",
      "3000/3000 - 4s - loss: 0.0116 - accuracy: 0.9975 - val_loss: 0.0610 - val_accuracy: 0.9834\n",
      "Epoch 19/20\n",
      "3000/3000 - 4s - loss: 0.0111 - accuracy: 0.9974 - val_loss: 0.0624 - val_accuracy: 0.9827\n",
      "Epoch 20/20\n",
      "3000/3000 - 4s - loss: 0.0096 - accuracy: 0.9981 - val_loss: 0.0644 - val_accuracy: 0.9819\n",
      "Epoch 00020: early stopping\n",
      " \n",
      "> 98.080\n"
     ]
    }
   ],
   "source": [
    "scores, histories = list(), list()\n",
    "model = Sequential()\n",
    "model.add(Conv2D(32, (3, 3), activation='relu', kernel_initializer='he_uniform', input_shape=(28, 28, 1)))\n",
    "model.add(MaxPooling2D((2, 2)))\n",
    "model.add(Flatten())\n",
    "model.add(Dense(100, activation='relu', kernel_initializer='he_uniform'))\n",
    "model.add(Dense(10, activation='softmax'))\n",
    "# compile model\n",
    "opt = SGD(learning_rate=0.001, momentum=0.9)\n",
    "model.compile(optimizer=opt, loss='categorical_crossentropy', metrics=['accuracy'])\n",
    "estp = EarlyStopping(monitor='val_loss', min_delta=0.001,patience=5, verbose=1, mode='auto',restore_best_weights=False)\n",
    "history = model.fit(train_norm, trainY, epochs=20, batch_size=16, validation_split=0.2,shuffle='True',verbose=2, callbacks=[estp])\n",
    "_, acc = model.evaluate(testX, testY, verbose=0)\n",
    "print(' ')\n",
    "print('> %.3f' % (acc * 100.0))\n",
    "scores.append(acc)\n",
    "histories.append(history)\n"
   ]
  },
  {
   "cell_type": "code",
   "execution_count": null,
   "id": "documented-malta",
   "metadata": {},
   "outputs": [],
   "source": []
  }
 ],
 "metadata": {
  "kernelspec": {
   "display_name": "Python 3",
   "language": "python",
   "name": "python3"
  },
  "language_info": {
   "codemirror_mode": {
    "name": "ipython",
    "version": 3
   },
   "file_extension": ".py",
   "mimetype": "text/x-python",
   "name": "python",
   "nbconvert_exporter": "python",
   "pygments_lexer": "ipython3",
   "version": "3.6.13"
  }
 },
 "nbformat": 4,
 "nbformat_minor": 5
}
