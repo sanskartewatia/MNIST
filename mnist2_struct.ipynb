{
 "cells": [
  {
   "cell_type": "code",
   "execution_count": 9,
   "id": "electrical-companion",
   "metadata": {},
   "outputs": [],
   "source": [
    "from sklearn.model_selection import KFold\n",
    "from tensorflow.keras.utils import to_categorical\n",
    "# baseline cnn model for mnist\n",
    "from numpy import mean\n",
    "from numpy import std\n",
    "from matplotlib import pyplot\n",
    "from sklearn.model_selection import KFold\n",
    "from tensorflow.keras.datasets import mnist\n",
    "from tensorflow.keras.models import Sequential\n",
    "from tensorflow.keras.layers import Conv2D\n",
    "from tensorflow.keras.layers import MaxPooling2D\n",
    "from tensorflow.keras.layers import Dense\n",
    "from tensorflow.keras.layers import Flatten\n",
    "from tensorflow.keras.optimizers import Adam\n",
    "from tensorflow.keras.layers import BatchNormalization\n",
    "from tensorflow.keras.callbacks import EarlyStopping\n",
    "\n",
    "\n",
    "def load_dataset():\n",
    "\t# load dataset\n",
    "\t(trainX, trainY), (testX, testY) = mnist.load_data()\n",
    "\t# reshape dataset to have a single channel\n",
    "\ttrainX = trainX.reshape((trainX.shape[0], 28, 28, 1))\n",
    "\ttestX = testX.reshape((testX.shape[0], 28, 28, 1))\n",
    "\t# one hot encode target values\n",
    "\ttrainY = to_categorical(trainY)\n",
    "\ttestY = to_categorical(testY)\n",
    "\treturn trainX, trainY, testX, testY\n",
    " \n",
    "# scale pixels\n",
    "def prep_pixels(train, test):\n",
    "\t# convert from integers to floats\n",
    "\ttrain_norm = train.astype('float32')\n",
    "\ttest_norm = test.astype('float32')\n",
    "\t# normalize to range 0-1\n",
    "\ttrain_norm = train_norm / 255.0\n",
    "\ttest_norm = test_norm / 255.0\n",
    "\t# return normalized images\n",
    "\treturn train_norm, test_norm\n",
    " \n",
    "    \n",
    "def define_model():\n",
    "\tmodel = Sequential()\n",
    "\tmodel.add(Conv2D(32, (3, 3), activation='relu', kernel_initializer='he_uniform', input_shape=(28, 28, 1)))\n",
    "#\tmodel.add(BatchNormalization())\n",
    "\tmodel.add(MaxPooling2D((2, 2)))\n",
    "\tmodel.add(Conv2D(64, (3, 3), activation='relu', kernel_initializer='he_uniform'))\n",
    "#\tmodel.add(BatchNormalization())\n",
    "\tmodel.add(Conv2D(64, (3, 3), activation='relu', kernel_initializer='he_uniform'))\n",
    "#\tmodel.add(BatchNormalization())\n",
    "\tmodel.add(MaxPooling2D((2, 2)))\n",
    "\tmodel.add(Flatten())\n",
    "\tmodel.add(Dense(100, activation='relu', kernel_initializer='he_uniform'))\n",
    "\tmodel.add(Dense(10, activation='softmax'))\n",
    "\t# compile model\n",
    "\topt = Adam(learning_rate=0.001)\n",
    "\tmodel.compile(optimizer=opt, loss='categorical_crossentropy', metrics=['accuracy'])\n",
    "\treturn model\n",
    "\n",
    "\n",
    "# evaluate a model using k-fold cross-validation\n",
    "def evaluate_model(dataX, dataY, n_folds=5):\n",
    "\tscores, histories = list(), list()\n",
    "\t# prepare cross validation\n",
    "\tkfold = KFold(n_folds, shuffle=True, random_state=1)\n",
    "\t# enumerate splits\n",
    "\tfor train_ix, test_ix in kfold.split(dataX):\n",
    "\t\t# define model\n",
    "\t\tmodel = define_model()\n",
    "\t\t# select rows for train and test\n",
    "\t\ttrainX, trainY, testX, testY = dataX[train_ix], dataY[train_ix], dataX[test_ix], dataY[test_ix]\n",
    "\t\t# fit model\n",
    "\t\testp = EarlyStopping(monitor='val_loss', min_delta=0.0005,patience=10, verbose=1, mode='auto',restore_best_weights=True)\n",
    "\t\thistory = model.fit(trainX, trainY, epochs=30, batch_size=32, validation_data=(testX, testY), verbose=2, callbacks=[estp])\n",
    "\t\t# evaluate model\n",
    "\t\t_, acc = model.evaluate(testX, testY, verbose=0)\n",
    "\t\tprint('> %.3f' % (acc * 100.0))\n",
    "\t\t# stores scores\n",
    "\t\tscores.append(acc)\n",
    "\t\thistories.append(history)\n",
    "\treturn scores, histories\n",
    " \n",
    "# plot diagnostic learning curves\n",
    "def summarize_diagnostics(histories):\n",
    "\tfor i in range(len(histories)):\n",
    "\t\t# plot loss\n",
    "\t\tpyplot.subplot(2, 1, 1)\n",
    "\t\tpyplot.title('Cross Entropy Loss')\n",
    "\t\tpyplot.plot(histories[i].history['loss'], color='blue', label='train')\n",
    "\t\tpyplot.plot(histories[i].history['val_loss'], color='orange', label='test')\n",
    "\t\t# plot accuracy\n",
    "\t\tpyplot.subplot(2, 1, 2)\n",
    "\t\tpyplot.title('Classification Accuracy')\n",
    "\t\tpyplot.plot(histories[i].history['accuracy'], color='blue', label='train')\n",
    "\t\tpyplot.plot(histories[i].history['val_accuracy'], color='orange', label='test')\n",
    "\tpyplot.show()\n",
    " \n",
    "# summarize model performance\n",
    "def summarize_performance(scores):\n",
    "\t# print summary\n",
    "\tprint('Accuracy: mean=%.3f std=%.3f, n=%d' % (mean(scores)*100, std(scores)*100, len(scores)))\n",
    "\t# box and whisker plots of results\n",
    "\tpyplot.boxplot(scores)\n",
    "\tpyplot.show()\n",
    " \n",
    "# run the test harness for evaluating a model\n",
    "def run_test_harness():\n",
    "\t# load dataset\n",
    "\ttrainX, trainY, testX, testY = load_dataset()\n",
    "\t# prepare pixel data\n",
    "\ttrainX, testX = prep_pixels(trainX, testX)\n",
    "\t# evaluate model\n",
    "\tscores, histories = evaluate_model(trainX, trainY)\n",
    "\t# learning curves\n",
    "\tsummarize_diagnostics(histories)\n",
    "\t# summarize estimated performance\n",
    "\tsummarize_performance(scores)\n",
    "\treturn scores, histories\n",
    "    \n",
    " "
   ]
  },
  {
   "cell_type": "code",
   "execution_count": 10,
   "id": "hungry-glenn",
   "metadata": {},
   "outputs": [
    {
     "name": "stdout",
     "output_type": "stream",
     "text": [
      "Epoch 1/30\n",
      "1500/1500 - 3s - loss: 0.1225 - accuracy: 0.9629 - val_loss: 0.0615 - val_accuracy: 0.9816\n",
      "Epoch 2/30\n",
      "1500/1500 - 3s - loss: 0.0448 - accuracy: 0.9855 - val_loss: 0.0540 - val_accuracy: 0.9837\n",
      "Epoch 3/30\n",
      "1500/1500 - 3s - loss: 0.0301 - accuracy: 0.9906 - val_loss: 0.0488 - val_accuracy: 0.9851\n",
      "Epoch 4/30\n",
      "1500/1500 - 3s - loss: 0.0224 - accuracy: 0.9926 - val_loss: 0.0420 - val_accuracy: 0.9879\n",
      "Epoch 5/30\n",
      "1500/1500 - 3s - loss: 0.0165 - accuracy: 0.9950 - val_loss: 0.0742 - val_accuracy: 0.9797\n",
      "Epoch 6/30\n",
      "1500/1500 - 3s - loss: 0.0150 - accuracy: 0.9951 - val_loss: 0.0429 - val_accuracy: 0.9892\n",
      "Epoch 7/30\n",
      "1500/1500 - 3s - loss: 0.0123 - accuracy: 0.9956 - val_loss: 0.0529 - val_accuracy: 0.9883\n",
      "Epoch 8/30\n",
      "1500/1500 - 3s - loss: 0.0120 - accuracy: 0.9962 - val_loss: 0.0434 - val_accuracy: 0.9900\n",
      "Epoch 9/30\n",
      "1500/1500 - 3s - loss: 0.0081 - accuracy: 0.9973 - val_loss: 0.0564 - val_accuracy: 0.9879\n",
      "Epoch 10/30\n",
      "1500/1500 - 3s - loss: 0.0092 - accuracy: 0.9970 - val_loss: 0.0435 - val_accuracy: 0.9907\n",
      "Epoch 11/30\n",
      "1500/1500 - 3s - loss: 0.0077 - accuracy: 0.9975 - val_loss: 0.0470 - val_accuracy: 0.9906\n",
      "Epoch 12/30\n",
      "1500/1500 - 3s - loss: 0.0062 - accuracy: 0.9982 - val_loss: 0.0609 - val_accuracy: 0.9878\n",
      "Epoch 13/30\n",
      "1500/1500 - 3s - loss: 0.0060 - accuracy: 0.9979 - val_loss: 0.0561 - val_accuracy: 0.9902\n",
      "Epoch 14/30\n",
      "Restoring model weights from the end of the best epoch.\n",
      "1500/1500 - 3s - loss: 0.0063 - accuracy: 0.9982 - val_loss: 0.0650 - val_accuracy: 0.9884\n",
      "Epoch 00014: early stopping\n",
      "> 98.792\n",
      "Epoch 1/30\n",
      "1500/1500 - 3s - loss: 0.1179 - accuracy: 0.9636 - val_loss: 0.0606 - val_accuracy: 0.9808\n",
      "Epoch 2/30\n",
      "1500/1500 - 3s - loss: 0.0443 - accuracy: 0.9862 - val_loss: 0.0390 - val_accuracy: 0.9882\n",
      "Epoch 3/30\n",
      "1500/1500 - 3s - loss: 0.0316 - accuracy: 0.9897 - val_loss: 0.0484 - val_accuracy: 0.9848\n",
      "Epoch 4/30\n",
      "1500/1500 - 3s - loss: 0.0236 - accuracy: 0.9925 - val_loss: 0.0354 - val_accuracy: 0.9887\n",
      "Epoch 5/30\n",
      "1500/1500 - 3s - loss: 0.0169 - accuracy: 0.9947 - val_loss: 0.0378 - val_accuracy: 0.9896\n",
      "Epoch 6/30\n",
      "1500/1500 - 3s - loss: 0.0160 - accuracy: 0.9949 - val_loss: 0.0467 - val_accuracy: 0.9875\n",
      "Epoch 7/30\n",
      "1500/1500 - 3s - loss: 0.0118 - accuracy: 0.9959 - val_loss: 0.0484 - val_accuracy: 0.9870\n",
      "Epoch 8/30\n",
      "1500/1500 - 3s - loss: 0.0119 - accuracy: 0.9961 - val_loss: 0.0466 - val_accuracy: 0.9883\n",
      "Epoch 9/30\n",
      "1500/1500 - 3s - loss: 0.0074 - accuracy: 0.9978 - val_loss: 0.0714 - val_accuracy: 0.9818\n",
      "Epoch 10/30\n",
      "1500/1500 - 3s - loss: 0.0081 - accuracy: 0.9973 - val_loss: 0.0571 - val_accuracy: 0.9884\n",
      "Epoch 11/30\n",
      "1500/1500 - 3s - loss: 0.0073 - accuracy: 0.9977 - val_loss: 0.0460 - val_accuracy: 0.9897\n",
      "Epoch 12/30\n",
      "1500/1500 - 3s - loss: 0.0057 - accuracy: 0.9981 - val_loss: 0.0618 - val_accuracy: 0.9889\n",
      "Epoch 13/30\n",
      "1500/1500 - 3s - loss: 0.0077 - accuracy: 0.9977 - val_loss: 0.0468 - val_accuracy: 0.9884\n",
      "Epoch 14/30\n",
      "Restoring model weights from the end of the best epoch.\n",
      "1500/1500 - 3s - loss: 0.0036 - accuracy: 0.9989 - val_loss: 0.0588 - val_accuracy: 0.9895\n",
      "Epoch 00014: early stopping\n",
      "> 98.867\n",
      "Epoch 1/30\n",
      "1500/1500 - 3s - loss: 0.1227 - accuracy: 0.9622 - val_loss: 0.0574 - val_accuracy: 0.9825\n",
      "Epoch 2/30\n",
      "1500/1500 - 3s - loss: 0.0441 - accuracy: 0.9862 - val_loss: 0.0472 - val_accuracy: 0.9856\n",
      "Epoch 3/30\n",
      "1500/1500 - 3s - loss: 0.0307 - accuracy: 0.9901 - val_loss: 0.0627 - val_accuracy: 0.9817\n",
      "Epoch 4/30\n",
      "1500/1500 - 3s - loss: 0.0240 - accuracy: 0.9920 - val_loss: 0.0378 - val_accuracy: 0.9894\n",
      "Epoch 5/30\n",
      "1500/1500 - 3s - loss: 0.0179 - accuracy: 0.9941 - val_loss: 0.0467 - val_accuracy: 0.9884\n",
      "Epoch 6/30\n",
      "1500/1500 - 3s - loss: 0.0146 - accuracy: 0.9951 - val_loss: 0.0415 - val_accuracy: 0.9887\n",
      "Epoch 7/30\n",
      "1500/1500 - 3s - loss: 0.0122 - accuracy: 0.9959 - val_loss: 0.0502 - val_accuracy: 0.9883\n",
      "Epoch 8/30\n",
      "1500/1500 - 3s - loss: 0.0099 - accuracy: 0.9969 - val_loss: 0.0461 - val_accuracy: 0.9906\n",
      "Epoch 9/30\n",
      "1500/1500 - 3s - loss: 0.0085 - accuracy: 0.9972 - val_loss: 0.0551 - val_accuracy: 0.9896\n",
      "Epoch 10/30\n",
      "1500/1500 - 3s - loss: 0.0099 - accuracy: 0.9967 - val_loss: 0.0609 - val_accuracy: 0.9898\n",
      "Epoch 11/30\n",
      "1500/1500 - 3s - loss: 0.0075 - accuracy: 0.9975 - val_loss: 0.0715 - val_accuracy: 0.9878\n",
      "Epoch 12/30\n",
      "1500/1500 - 3s - loss: 0.0073 - accuracy: 0.9977 - val_loss: 0.0648 - val_accuracy: 0.9888\n",
      "Epoch 13/30\n",
      "1500/1500 - 3s - loss: 0.0052 - accuracy: 0.9985 - val_loss: 0.0745 - val_accuracy: 0.9890\n",
      "Epoch 14/30\n",
      "Restoring model weights from the end of the best epoch.\n",
      "1500/1500 - 3s - loss: 0.0082 - accuracy: 0.9974 - val_loss: 0.0517 - val_accuracy: 0.9908\n",
      "Epoch 00014: early stopping\n",
      "> 98.942\n",
      "Epoch 1/30\n",
      "1500/1500 - 3s - loss: 0.1284 - accuracy: 0.9601 - val_loss: 0.0519 - val_accuracy: 0.9834\n",
      "Epoch 2/30\n",
      "1500/1500 - 3s - loss: 0.0477 - accuracy: 0.9845 - val_loss: 0.0339 - val_accuracy: 0.9901\n",
      "Epoch 3/30\n",
      "1500/1500 - 3s - loss: 0.0309 - accuracy: 0.9906 - val_loss: 0.0419 - val_accuracy: 0.9877\n",
      "Epoch 4/30\n",
      "1500/1500 - 3s - loss: 0.0244 - accuracy: 0.9923 - val_loss: 0.0531 - val_accuracy: 0.9836\n",
      "Epoch 5/30\n",
      "1500/1500 - 3s - loss: 0.0182 - accuracy: 0.9942 - val_loss: 0.0331 - val_accuracy: 0.9895\n",
      "Epoch 6/30\n",
      "1500/1500 - 3s - loss: 0.0160 - accuracy: 0.9947 - val_loss: 0.0362 - val_accuracy: 0.9899\n",
      "Epoch 7/30\n",
      "1500/1500 - 3s - loss: 0.0130 - accuracy: 0.9955 - val_loss: 0.0413 - val_accuracy: 0.9880\n",
      "Epoch 8/30\n",
      "1500/1500 - 3s - loss: 0.0106 - accuracy: 0.9964 - val_loss: 0.0466 - val_accuracy: 0.9887\n",
      "Epoch 9/30\n",
      "1500/1500 - 3s - loss: 0.0091 - accuracy: 0.9969 - val_loss: 0.0400 - val_accuracy: 0.9906\n",
      "Epoch 10/30\n",
      "1500/1500 - 3s - loss: 0.0088 - accuracy: 0.9973 - val_loss: 0.0586 - val_accuracy: 0.9860\n",
      "Epoch 11/30\n",
      "1500/1500 - 3s - loss: 0.0070 - accuracy: 0.9978 - val_loss: 0.0412 - val_accuracy: 0.9902\n",
      "Epoch 12/30\n",
      "1500/1500 - 3s - loss: 0.0071 - accuracy: 0.9976 - val_loss: 0.0389 - val_accuracy: 0.9915\n",
      "Epoch 13/30\n",
      "1500/1500 - 3s - loss: 0.0078 - accuracy: 0.9973 - val_loss: 0.0557 - val_accuracy: 0.9887\n",
      "Epoch 14/30\n",
      "1500/1500 - 3s - loss: 0.0056 - accuracy: 0.9981 - val_loss: 0.0521 - val_accuracy: 0.9902\n",
      "Epoch 15/30\n",
      "Restoring model weights from the end of the best epoch.\n",
      "1500/1500 - 4s - loss: 0.0059 - accuracy: 0.9984 - val_loss: 0.0516 - val_accuracy: 0.9892\n",
      "Epoch 00015: early stopping\n",
      "> 98.950\n",
      "Epoch 1/30\n",
      "WARNING:tensorflow:Callbacks method `on_test_batch_end` is slow compared to the batch time (batch time: 0.0000s vs `on_test_batch_end` time: 0.0010s). Check your callbacks.\n",
      "1500/1500 - 3s - loss: 0.1338 - accuracy: 0.9596 - val_loss: 0.0600 - val_accuracy: 0.9822\n",
      "Epoch 2/30\n",
      "1500/1500 - 3s - loss: 0.0471 - accuracy: 0.9854 - val_loss: 0.0441 - val_accuracy: 0.9859\n",
      "Epoch 3/30\n",
      "1500/1500 - 3s - loss: 0.0333 - accuracy: 0.9897 - val_loss: 0.0463 - val_accuracy: 0.9871\n",
      "Epoch 4/30\n",
      "1500/1500 - 3s - loss: 0.0242 - accuracy: 0.9924 - val_loss: 0.0396 - val_accuracy: 0.9879\n",
      "Epoch 5/30\n",
      "1500/1500 - 3s - loss: 0.0177 - accuracy: 0.9945 - val_loss: 0.0626 - val_accuracy: 0.9847\n",
      "Epoch 6/30\n",
      "1500/1500 - 3s - loss: 0.0164 - accuracy: 0.9947 - val_loss: 0.0394 - val_accuracy: 0.9888\n",
      "Epoch 7/30\n",
      "1500/1500 - 3s - loss: 0.0127 - accuracy: 0.9958 - val_loss: 0.0395 - val_accuracy: 0.9893\n",
      "Epoch 8/30\n",
      "1500/1500 - 3s - loss: 0.0106 - accuracy: 0.9969 - val_loss: 0.0417 - val_accuracy: 0.9893\n",
      "Epoch 9/30\n",
      "1500/1500 - 3s - loss: 0.0093 - accuracy: 0.9970 - val_loss: 0.0510 - val_accuracy: 0.9883\n",
      "Epoch 10/30\n",
      "1500/1500 - 3s - loss: 0.0099 - accuracy: 0.9968 - val_loss: 0.0498 - val_accuracy: 0.9895\n",
      "Epoch 11/30\n",
      "1500/1500 - 3s - loss: 0.0059 - accuracy: 0.9981 - val_loss: 0.0586 - val_accuracy: 0.9893\n",
      "Epoch 12/30\n",
      "1500/1500 - 3s - loss: 0.0107 - accuracy: 0.9969 - val_loss: 0.0503 - val_accuracy: 0.9909\n",
      "Epoch 13/30\n",
      "1500/1500 - 3s - loss: 0.0050 - accuracy: 0.9984 - val_loss: 0.0496 - val_accuracy: 0.9903\n",
      "Epoch 14/30\n",
      "Restoring model weights from the end of the best epoch.\n",
      "1500/1500 - 3s - loss: 0.0064 - accuracy: 0.9978 - val_loss: 0.0720 - val_accuracy: 0.9874\n",
      "Epoch 00014: early stopping\n",
      "> 98.792\n"
     ]
    },
    {
     "name": "stderr",
     "output_type": "stream",
     "text": [
      "C:\\Users\\tsans\\anaconda3\\envs\\py363\\lib\\site-packages\\ipykernel_launcher.py:87: MatplotlibDeprecationWarning: Adding an axes using the same arguments as a previous axes currently reuses the earlier instance.  In a future version, a new instance will always be created and returned.  Meanwhile, this warning can be suppressed, and the future behavior ensured, by passing a unique label to each axes instance.\n",
      "C:\\Users\\tsans\\anaconda3\\envs\\py363\\lib\\site-packages\\ipykernel_launcher.py:92: MatplotlibDeprecationWarning: Adding an axes using the same arguments as a previous axes currently reuses the earlier instance.  In a future version, a new instance will always be created and returned.  Meanwhile, this warning can be suppressed, and the future behavior ensured, by passing a unique label to each axes instance.\n"
     ]
    },
    {
     "data": {
      "image/png": "[encoded data removed]",
      "text/plain": [
       "<Figure size 432x288 with 2 Axes>"
      ]
     },
     "metadata": {
      "needs_background": "light"
     },
     "output_type": "display_data"
    },
    {
     "name": "stdout",
     "output_type": "stream",
     "text": [
      "Accuracy: mean=98.868 std=0.069, n=5\n"
     ]
    },
    {
     "data": {
      "image/png": "[encoded data removed]",
      "text/plain": [
       "<Figure size 432x288 with 1 Axes>"
      ]
     },
     "metadata": {
      "needs_background": "light"
     },
     "output_type": "display_data"
    }
   ],
   "source": [
    "# entry point, run the test harness\n",
    "scores,histories = run_test_harness()"
   ]
  },
  {
   "cell_type": "code",
   "execution_count": null,
   "id": "dynamic-queue",
   "metadata": {},
   "outputs": [],
   "source": []
  },
  {
   "cell_type": "code",
   "execution_count": 11,
   "id": "contemporary-honey",
   "metadata": {},
   "outputs": [],
   "source": [
    "import numpy as np\n",
    "vl0=histories[0].history['val_loss']\n",
    "vl0=np.array(vl0[0:13])"
   ]
  },
  {
   "cell_type": "code",
   "execution_count": 12,
   "id": "narrative-stocks",
   "metadata": {},
   "outputs": [],
   "source": [
    "vl1=histories[1].history['val_loss']\n",
    "vl1=np.array(vl1[0:13])"
   ]
  },
  {
   "cell_type": "code",
   "execution_count": 13,
   "id": "falling-monster",
   "metadata": {},
   "outputs": [],
   "source": [
    "vl2=histories[2].history['val_loss']\n",
    "vl2=np.array(vl2[0:13])"
   ]
  },
  {
   "cell_type": "code",
   "execution_count": 14,
   "id": "rational-scholar",
   "metadata": {},
   "outputs": [],
   "source": [
    "vl3=histories[3].history['val_loss']\n",
    "vl3=np.array(vl3[0:13])"
   ]
  },
  {
   "cell_type": "code",
   "execution_count": 15,
   "id": "regulation-seafood",
   "metadata": {},
   "outputs": [],
   "source": [
    "vl4=histories[4].history['val_loss']\n",
    "vl4=np.array(vl4[0:13])"
   ]
  },
  {
   "cell_type": "code",
   "execution_count": 16,
   "id": "shared-parcel",
   "metadata": {},
   "outputs": [],
   "source": [
    "vlavg=[np.mean(k) for k in zip(vl0,vl1,vl2,vl3,vl4)]"
   ]
  },
  {
   "cell_type": "code",
   "execution_count": 17,
   "id": "exposed-gallery",
   "metadata": {},
   "outputs": [
    {
     "data": {
      "image/png": "[encoded data removed]",
      "text/plain": [
       "<Figure size 432x288 with 1 Axes>"
      ]
     },
     "metadata": {
      "needs_background": "light"
     },
     "output_type": "display_data"
    }
   ],
   "source": [
    "pyplot.subplot(2, 2, 2)\n",
    "pyplot.plot(vlavg, label='Validation Loss')\n",
    "pyplot.legend(loc='upper right')\n",
    "pyplot.title('Validation Loss')\n",
    "pyplot.show()"
   ]
  },
  {
   "cell_type": "code",
   "execution_count": 4,
   "id": "latest-despite",
   "metadata": {},
   "outputs": [
    {
     "name": "stdout",
     "output_type": "stream",
     "text": [
      "Epoch 1/30\n",
      "1688/1688 - 3s - loss: 0.1140 - accuracy: 0.9639 - val_loss: 0.0445 - val_accuracy: 0.9862\n",
      "Epoch 2/30\n",
      "1688/1688 - 3s - loss: 0.0413 - accuracy: 0.9870 - val_loss: 0.0340 - val_accuracy: 0.9897\n",
      "Epoch 3/30\n",
      "1688/1688 - 3s - loss: 0.0279 - accuracy: 0.9914 - val_loss: 0.0308 - val_accuracy: 0.9915\n",
      "Epoch 4/30\n",
      "1688/1688 - 3s - loss: 0.0206 - accuracy: 0.9934 - val_loss: 0.0381 - val_accuracy: 0.9890\n",
      "Epoch 5/30\n",
      "1688/1688 - 3s - loss: 0.0172 - accuracy: 0.9942 - val_loss: 0.0375 - val_accuracy: 0.9920\n",
      "Epoch 6/30\n",
      "1688/1688 - 3s - loss: 0.0135 - accuracy: 0.9951 - val_loss: 0.0385 - val_accuracy: 0.9908\n",
      "Epoch 7/30\n",
      "1688/1688 - 4s - loss: 0.0103 - accuracy: 0.9964 - val_loss: 0.0429 - val_accuracy: 0.9912\n",
      "Epoch 8/30\n",
      "1688/1688 - 3s - loss: 0.0096 - accuracy: 0.9968 - val_loss: 0.0435 - val_accuracy: 0.9915\n",
      "Epoch 9/30\n",
      "1688/1688 - 3s - loss: 0.0085 - accuracy: 0.9970 - val_loss: 0.0397 - val_accuracy: 0.9920\n",
      "Epoch 10/30\n",
      "1688/1688 - 3s - loss: 0.0069 - accuracy: 0.9980 - val_loss: 0.0376 - val_accuracy: 0.9928\n",
      "Epoch 11/30\n",
      "1688/1688 - 3s - loss: 0.0083 - accuracy: 0.9974 - val_loss: 0.0459 - val_accuracy: 0.9918\n",
      "Epoch 12/30\n",
      "Restoring model weights from the end of the best epoch.\n",
      "1688/1688 - 3s - loss: 0.0054 - accuracy: 0.9984 - val_loss: 0.0497 - val_accuracy: 0.9920\n",
      "Epoch 00012: early stopping\n",
      " \n",
      "Accuracy on Test Set -> 99.070\n"
     ]
    }
   ],
   "source": [
    "scores2=[]\n",
    "histories2=[]\n",
    "model = define_model()\n",
    "trainX, trainY, testX, testY = load_dataset()\n",
    "\n",
    "trainX, testX = prep_pixels(trainX, testX)\n",
    "\n",
    "estp = EarlyStopping(monitor='val_loss', min_delta=0.0004,patience=9, verbose=1, mode='auto',restore_best_weights=True)\n",
    "history = model.fit(trainX, trainY, epochs=30, batch_size=32, validation_split=0.1, verbose=2, callbacks=[estp])\n",
    "# evaluate model\n",
    "_, acc = model.evaluate(testX, testY, verbose=0)\n",
    "print(' ')\n",
    "print('Accuracy on Test Set -> %.3f' % (acc * 100.0))\n",
    "# stores scores\n",
    "scores2.append(acc)\n",
    "histories2.append(history)"
   ]
  },
  {
   "cell_type": "code",
   "execution_count": 5,
   "id": "retired-wages",
   "metadata": {},
   "outputs": [
    {
     "data": {
      "image/png": "[encoded data removed]",
      "text/plain": [
       "<Figure size 432x288 with 2 Axes>"
      ]
     },
     "metadata": {
      "needs_background": "light"
     },
     "output_type": "display_data"
    }
   ],
   "source": [
    "summarize_diagnostics(histories2)"
   ]
  },
  {
   "cell_type": "code",
   "execution_count": 6,
   "id": "departmental-owner",
   "metadata": {},
   "outputs": [
    {
     "name": "stdout",
     "output_type": "stream",
     "text": [
      "Model: \"sequential_1\"\n",
      "_________________________________________________________________\n",
      "Layer (type)                 Output Shape              Param #   \n",
      "=================================================================\n",
      "conv2d_3 (Conv2D)            (None, 26, 26, 32)        320       \n",
      "_________________________________________________________________\n",
      "max_pooling2d_2 (MaxPooling2 (None, 13, 13, 32)        0         \n",
      "_________________________________________________________________\n",
      "conv2d_4 (Conv2D)            (None, 11, 11, 64)        18496     \n",
      "_________________________________________________________________\n",
      "conv2d_5 (Conv2D)            (None, 9, 9, 64)          36928     \n",
      "_________________________________________________________________\n",
      "max_pooling2d_3 (MaxPooling2 (None, 4, 4, 64)          0         \n",
      "_________________________________________________________________\n",
      "flatten_1 (Flatten)          (None, 1024)              0         \n",
      "_________________________________________________________________\n",
      "dense_2 (Dense)              (None, 100)               102500    \n",
      "_________________________________________________________________\n",
      "dense_3 (Dense)              (None, 10)                1010      \n",
      "=================================================================\n",
      "Total params: 159,254\n",
      "Trainable params: 159,254\n",
      "Non-trainable params: 0\n",
      "_________________________________________________________________\n"
     ]
    }
   ],
   "source": [
    "model.summary()"
   ]
  },
  {
   "cell_type": "code",
   "execution_count": null,
   "id": "capital-bullet",
   "metadata": {},
   "outputs": [],
   "source": []
  }
 ],
 "metadata": {
  "kernelspec": {
   "display_name": "Python 3",
   "language": "python",
   "name": "python3"
  },
  "language_info": {
   "codemirror_mode": {
    "name": "ipython",
    "version": 3
   },
   "file_extension": ".py",
   "mimetype": "text/x-python",
   "name": "python",
   "nbconvert_exporter": "python",
   "pygments_lexer": "ipython3",
   "version": "3.6.13"
  }
 },
 "nbformat": 4,
 "nbformat_minor": 5
}
