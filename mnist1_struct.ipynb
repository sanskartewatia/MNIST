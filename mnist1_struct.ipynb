{
 "cells": [
  {
   "cell_type": "code",
   "execution_count": 1,
   "id": "empirical-graham",
   "metadata": {},
   "outputs": [],
   "source": [
    "from sklearn.model_selection import KFold\n",
    "from tensorflow.keras.utils import to_categorical\n",
    "# baseline cnn model for mnist\n",
    "from numpy import mean\n",
    "from numpy import std\n",
    "from matplotlib import pyplot\n",
    "from sklearn.model_selection import KFold\n",
    "from tensorflow.keras.datasets import mnist\n",
    "from tensorflow.keras.models import Sequential\n",
    "from tensorflow.keras.layers import Conv2D\n",
    "from tensorflow.keras.layers import MaxPooling2D\n",
    "from tensorflow.keras.layers import Dense\n",
    "from tensorflow.keras.layers import Flatten\n",
    "from tensorflow.keras.optimizers import Adam\n",
    "from tensorflow.keras.layers import BatchNormalization\n",
    "from tensorflow.keras.callbacks import EarlyStopping"
   ]
  },
  {
   "cell_type": "code",
   "execution_count": 2,
   "id": "swedish-malaysia",
   "metadata": {},
   "outputs": [],
   "source": [
    "def load_dataset():\n",
    "\t# load dataset\n",
    "\t(trainX, trainY), (testX, testY) = mnist.load_data()\n",
    "\t# reshape dataset to have a single channel\n",
    "\ttrainX = trainX.reshape((trainX.shape[0], 28, 28, 1))\n",
    "\ttestX = testX.reshape((testX.shape[0], 28, 28, 1))\n",
    "\t# one hot encode target values\n",
    "\ttrainY = to_categorical(trainY)\n",
    "\ttestY = to_categorical(testY)\n",
    "\treturn trainX, trainY, testX, testY\n",
    " \n",
    "# scale pixels\n",
    "def prep_pixels(train, test):\n",
    "\t# convert from integers to floats\n",
    "\ttrain_norm = train.astype('float32')\n",
    "\ttest_norm = test.astype('float32')\n",
    "\t# normalize to range 0-1\n",
    "\ttrain_norm = train_norm / 255.0\n",
    "\ttest_norm = test_norm / 255.0\n",
    "\t# return normalized images\n",
    "\treturn train_norm, test_norm\n",
    " \n",
    "    \n",
    "def define_model():\n",
    "\tmodel = Sequential()\n",
    "\tmodel.add(Conv2D(32, (3, 3), activation='relu', kernel_initializer='he_uniform', input_shape=(28, 28, 1)))\n",
    "\tmodel.add(BatchNormalization())\n",
    "\tmodel.add(MaxPooling2D((2, 2)))\n",
    "\tmodel.add(Conv2D(64, (3, 3), activation='relu', kernel_initializer='he_uniform'))\n",
    "\tmodel.add(BatchNormalization())\n",
    "\tmodel.add(Conv2D(64, (3, 3), activation='relu', kernel_initializer='he_uniform'))\n",
    "\tmodel.add(BatchNormalization())\n",
    "\tmodel.add(MaxPooling2D((2, 2)))\n",
    "\tmodel.add(Flatten())\n",
    "\tmodel.add(Dense(100, activation='relu', kernel_initializer='he_uniform'))\n",
    "\tmodel.add(Dense(10, activation='softmax'))\n",
    "\t# compile model\n",
    "\topt = Adam(learning_rate=0.001)\n",
    "\tmodel.compile(optimizer=opt, loss='categorical_crossentropy', metrics=['accuracy'])\n",
    "\treturn model\n",
    "\n",
    "\n",
    "# evaluate a model using k-fold cross-validation\n",
    "def evaluate_model(dataX, dataY, n_folds=5):\n",
    "\tscores, histories = list(), list()\n",
    "\t# prepare cross validation\n",
    "\tkfold = KFold(n_folds, shuffle=True, random_state=1)\n",
    "\t# enumerate splits\n",
    "\tfor train_ix, test_ix in kfold.split(dataX):\n",
    "\t\t# define model\n",
    "\t\tmodel = define_model()\n",
    "\t\t# select rows for train and test\n",
    "\t\ttrainX, trainY, testX, testY = dataX[train_ix], dataY[train_ix], dataX[test_ix], dataY[test_ix]\n",
    "\t\t# fit model\n",
    "\t\testp = EarlyStopping(monitor='val_loss', min_delta=0.0005,patience=10, verbose=1, mode='auto',restore_best_weights=True)\n",
    "\t\thistory = model.fit(trainX, trainY, epochs=30, batch_size=32, validation_data=(testX, testY), verbose=2, callbacks=[estp])\n",
    "\t\t# evaluate model\n",
    "\t\t_, acc = model.evaluate(testX, testY, verbose=0)\n",
    "\t\tprint('> %.3f' % (acc * 100.0))\n",
    "\t\t# stores scores\n",
    "\t\tscores.append(acc)\n",
    "\t\thistories.append(history)\n",
    "\treturn scores, histories\n",
    " \n",
    "# plot diagnostic learning curves\n",
    "def summarize_diagnostics(histories):\n",
    "\tfor i in range(len(histories)):\n",
    "\t\t# plot loss\n",
    "\t\tpyplot.subplot(2, 1, 1)\n",
    "\t\tpyplot.title('Cross Entropy Loss')\n",
    "\t\tpyplot.plot(histories[i].history['loss'], color='blue', label='train')\n",
    "\t\tpyplot.plot(histories[i].history['val_loss'], color='orange', label='test')\n",
    "\t\t# plot accuracy\n",
    "\t\tpyplot.subplot(2, 1, 2)\n",
    "\t\tpyplot.title('Classification Accuracy')\n",
    "\t\tpyplot.plot(histories[i].history['accuracy'], color='blue', label='train')\n",
    "\t\tpyplot.plot(histories[i].history['val_accuracy'], color='orange', label='test')\n",
    "\tpyplot.show()\n",
    " \n",
    "# summarize model performance\n",
    "def summarize_performance(scores):\n",
    "\t# print summary\n",
    "\tprint('Accuracy: mean=%.3f std=%.3f, n=%d' % (mean(scores)*100, std(scores)*100, len(scores)))\n",
    "\t# box and whisker plots of results\n",
    "\tpyplot.boxplot(scores)\n",
    "\tpyplot.show()\n",
    " \n",
    "# run the test harness for evaluating a model\n",
    "def run_test_harness():\n",
    "\t# load dataset\n",
    "\ttrainX, trainY, testX, testY = load_dataset()\n",
    "\t# prepare pixel data\n",
    "\ttrainX, testX = prep_pixels(trainX, testX)\n",
    "\t# evaluate model\n",
    "\tscores, histories = evaluate_model(trainX, trainY)\n",
    "\t# learning curves\n",
    "\tsummarize_diagnostics(histories)\n",
    "\t# summarize estimated performance\n",
    "\tsummarize_performance(scores)\n",
    "\treturn scores, histories\n"
   ]
  },
  {
   "cell_type": "code",
   "execution_count": 9,
   "id": "twelve-private",
   "metadata": {},
   "outputs": [
    {
     "name": "stdout",
     "output_type": "stream",
     "text": [
      "Epoch 1/30\n",
      "WARNING:tensorflow:Callbacks method `on_train_batch_end` is slow compared to the batch time (batch time: 0.0010s vs `on_train_batch_end` time: 0.0020s). Check your callbacks.\n",
      "1500/1500 - 4s - loss: 0.1178 - accuracy: 0.9655 - val_loss: 0.0594 - val_accuracy: 0.9815\n",
      "Epoch 2/30\n",
      "1500/1500 - 4s - loss: 0.0428 - accuracy: 0.9871 - val_loss: 0.0593 - val_accuracy: 0.9829\n",
      "Epoch 3/30\n",
      "1500/1500 - 3s - loss: 0.0308 - accuracy: 0.9902 - val_loss: 0.0468 - val_accuracy: 0.9874\n",
      "Epoch 4/30\n",
      "1500/1500 - 3s - loss: 0.0252 - accuracy: 0.9922 - val_loss: 0.0587 - val_accuracy: 0.9860\n",
      "Epoch 5/30\n",
      "1500/1500 - 3s - loss: 0.0202 - accuracy: 0.9937 - val_loss: 0.0545 - val_accuracy: 0.9864\n",
      "Epoch 6/30\n",
      "1500/1500 - 3s - loss: 0.0189 - accuracy: 0.9939 - val_loss: 0.0636 - val_accuracy: 0.9857\n",
      "Epoch 7/30\n",
      "1500/1500 - 3s - loss: 0.0133 - accuracy: 0.9959 - val_loss: 0.0559 - val_accuracy: 0.9884\n",
      "Epoch 8/30\n",
      "1500/1500 - 3s - loss: 0.0110 - accuracy: 0.9967 - val_loss: 0.0524 - val_accuracy: 0.9895\n",
      "Epoch 9/30\n",
      "1500/1500 - 3s - loss: 0.0132 - accuracy: 0.9958 - val_loss: 0.0600 - val_accuracy: 0.9893\n",
      "Epoch 10/30\n",
      "1500/1500 - 3s - loss: 0.0110 - accuracy: 0.9967 - val_loss: 0.0625 - val_accuracy: 0.9891\n",
      "Epoch 11/30\n",
      "1500/1500 - 3s - loss: 0.0079 - accuracy: 0.9975 - val_loss: 0.0612 - val_accuracy: 0.9891\n",
      "Epoch 12/30\n",
      "1500/1500 - 3s - loss: 0.0092 - accuracy: 0.9972 - val_loss: 0.0776 - val_accuracy: 0.9877\n",
      "Epoch 13/30\n",
      "Restoring model weights from the end of the best epoch.\n",
      "1500/1500 - 3s - loss: 0.0085 - accuracy: 0.9974 - val_loss: 0.0671 - val_accuracy: 0.9885\n",
      "Epoch 00013: early stopping\n",
      "> 98.742\n",
      "Epoch 1/30\n",
      "1500/1500 - 3s - loss: 0.1111 - accuracy: 0.9653 - val_loss: 0.0594 - val_accuracy: 0.9813\n",
      "Epoch 2/30\n",
      "1500/1500 - 3s - loss: 0.0424 - accuracy: 0.9871 - val_loss: 0.0530 - val_accuracy: 0.9829\n",
      "Epoch 3/30\n",
      "1500/1500 - 3s - loss: 0.0297 - accuracy: 0.9905 - val_loss: 0.0557 - val_accuracy: 0.9847\n",
      "Epoch 4/30\n",
      "1500/1500 - 3s - loss: 0.0257 - accuracy: 0.9919 - val_loss: 0.0533 - val_accuracy: 0.9861\n",
      "Epoch 5/30\n",
      "1500/1500 - 3s - loss: 0.0210 - accuracy: 0.9936 - val_loss: 0.0433 - val_accuracy: 0.9881\n",
      "Epoch 6/30\n",
      "1500/1500 - 3s - loss: 0.0170 - accuracy: 0.9949 - val_loss: 0.0400 - val_accuracy: 0.9890\n",
      "Epoch 7/30\n",
      "1500/1500 - 3s - loss: 0.0126 - accuracy: 0.9959 - val_loss: 0.0462 - val_accuracy: 0.9885\n",
      "Epoch 8/30\n",
      "1500/1500 - 3s - loss: 0.0153 - accuracy: 0.9955 - val_loss: 0.0512 - val_accuracy: 0.9883\n",
      "Epoch 9/30\n",
      "1500/1500 - 3s - loss: 0.0107 - accuracy: 0.9967 - val_loss: 0.0547 - val_accuracy: 0.9877\n",
      "Epoch 10/30\n",
      "1500/1500 - 3s - loss: 0.0079 - accuracy: 0.9972 - val_loss: 0.0551 - val_accuracy: 0.9895\n",
      "Epoch 11/30\n",
      "1500/1500 - 3s - loss: 0.0114 - accuracy: 0.9962 - val_loss: 0.0557 - val_accuracy: 0.9888\n",
      "Epoch 12/30\n",
      "1500/1500 - 3s - loss: 0.0075 - accuracy: 0.9977 - val_loss: 0.0753 - val_accuracy: 0.9860\n",
      "Epoch 13/30\n",
      "1500/1500 - 3s - loss: 0.0067 - accuracy: 0.9980 - val_loss: 0.0944 - val_accuracy: 0.9852\n",
      "Epoch 14/30\n",
      "1500/1500 - 3s - loss: 0.0091 - accuracy: 0.9974 - val_loss: 0.0556 - val_accuracy: 0.9898\n",
      "Epoch 15/30\n",
      "1500/1500 - 3s - loss: 0.0057 - accuracy: 0.9988 - val_loss: 0.0594 - val_accuracy: 0.9895\n",
      "Epoch 16/30\n",
      "Restoring model weights from the end of the best epoch.\n",
      "1500/1500 - 3s - loss: 0.0062 - accuracy: 0.9982 - val_loss: 0.0538 - val_accuracy: 0.9905\n",
      "Epoch 00016: early stopping\n",
      "> 98.900\n",
      "Epoch 1/30\n",
      "1500/1500 - 3s - loss: 0.1136 - accuracy: 0.9656 - val_loss: 0.0689 - val_accuracy: 0.9778\n",
      "Epoch 2/30\n",
      "1500/1500 - 3s - loss: 0.0428 - accuracy: 0.9869 - val_loss: 0.0679 - val_accuracy: 0.9809\n",
      "Epoch 3/30\n",
      "1500/1500 - 3s - loss: 0.0319 - accuracy: 0.9903 - val_loss: 0.0867 - val_accuracy: 0.9773\n",
      "Epoch 4/30\n",
      "1500/1500 - 3s - loss: 0.0263 - accuracy: 0.9916 - val_loss: 0.0585 - val_accuracy: 0.9850\n",
      "Epoch 5/30\n",
      "1500/1500 - 3s - loss: 0.0204 - accuracy: 0.9933 - val_loss: 0.0501 - val_accuracy: 0.9868\n",
      "Epoch 6/30\n",
      "1500/1500 - 4s - loss: 0.0187 - accuracy: 0.9942 - val_loss: 0.0517 - val_accuracy: 0.9876\n",
      "Epoch 7/30\n",
      "1500/1500 - 3s - loss: 0.0148 - accuracy: 0.9953 - val_loss: 0.0534 - val_accuracy: 0.9885\n",
      "Epoch 8/30\n",
      "1500/1500 - 3s - loss: 0.0137 - accuracy: 0.9960 - val_loss: 0.0484 - val_accuracy: 0.9905\n",
      "Epoch 9/30\n",
      "1500/1500 - 3s - loss: 0.0098 - accuracy: 0.9969 - val_loss: 0.0475 - val_accuracy: 0.9914\n",
      "Epoch 10/30\n",
      "1500/1500 - 4s - loss: 0.0093 - accuracy: 0.9973 - val_loss: 0.0564 - val_accuracy: 0.9893\n",
      "Epoch 11/30\n",
      "1500/1500 - 3s - loss: 0.0111 - accuracy: 0.9968 - val_loss: 0.0592 - val_accuracy: 0.9895\n",
      "Epoch 12/30\n",
      "1500/1500 - 3s - loss: 0.0096 - accuracy: 0.9972 - val_loss: 0.0538 - val_accuracy: 0.9911\n",
      "Epoch 13/30\n",
      "1500/1500 - 3s - loss: 0.0073 - accuracy: 0.9978 - val_loss: 0.0540 - val_accuracy: 0.9911\n",
      "Epoch 14/30\n",
      "1500/1500 - 3s - loss: 0.0072 - accuracy: 0.9980 - val_loss: 0.0526 - val_accuracy: 0.9913\n",
      "Epoch 15/30\n",
      "1500/1500 - 3s - loss: 0.0049 - accuracy: 0.9984 - val_loss: 0.0568 - val_accuracy: 0.9918\n",
      "Epoch 16/30\n",
      "1500/1500 - 3s - loss: 0.0071 - accuracy: 0.9980 - val_loss: 0.0576 - val_accuracy: 0.9915\n",
      "Epoch 17/30\n",
      "1500/1500 - 3s - loss: 0.0064 - accuracy: 0.9982 - val_loss: 0.0545 - val_accuracy: 0.9927\n",
      "Epoch 18/30\n",
      "1500/1500 - 3s - loss: 0.0065 - accuracy: 0.9981 - val_loss: 0.0621 - val_accuracy: 0.9908\n",
      "Epoch 19/30\n",
      "Restoring model weights from the end of the best epoch.\n",
      "1500/1500 - 3s - loss: 0.0041 - accuracy: 0.9987 - val_loss: 0.0816 - val_accuracy: 0.9902\n",
      "Epoch 00019: early stopping\n",
      "> 99.142\n",
      "Epoch 1/30\n",
      "WARNING:tensorflow:Callbacks method `on_test_batch_begin` is slow compared to the batch time (batch time: 0.0000s vs `on_test_batch_begin` time: 0.0010s). Check your callbacks.\n",
      "WARNING:tensorflow:Callbacks method `on_test_batch_end` is slow compared to the batch time (batch time: 0.0000s vs `on_test_batch_end` time: 0.0010s). Check your callbacks.\n",
      "1500/1500 - 3s - loss: 0.1123 - accuracy: 0.9644 - val_loss: 0.0492 - val_accuracy: 0.9855\n",
      "Epoch 2/30\n",
      "1500/1500 - 3s - loss: 0.0457 - accuracy: 0.9858 - val_loss: 0.0364 - val_accuracy: 0.9889\n",
      "Epoch 3/30\n",
      "1500/1500 - 3s - loss: 0.0341 - accuracy: 0.9893 - val_loss: 0.0351 - val_accuracy: 0.9900\n",
      "Epoch 4/30\n",
      "1500/1500 - 3s - loss: 0.0250 - accuracy: 0.9924 - val_loss: 0.0336 - val_accuracy: 0.9912\n",
      "Epoch 5/30\n",
      "1500/1500 - 3s - loss: 0.0218 - accuracy: 0.9934 - val_loss: 0.0375 - val_accuracy: 0.9901\n",
      "Epoch 6/30\n",
      "1500/1500 - 3s - loss: 0.0181 - accuracy: 0.9943 - val_loss: 0.0509 - val_accuracy: 0.9868\n",
      "Epoch 7/30\n",
      "1500/1500 - 3s - loss: 0.0153 - accuracy: 0.9951 - val_loss: 0.0417 - val_accuracy: 0.9903\n",
      "Epoch 8/30\n",
      "1500/1500 - 3s - loss: 0.0124 - accuracy: 0.9961 - val_loss: 0.0444 - val_accuracy: 0.9906\n",
      "Epoch 9/30\n",
      "1500/1500 - 3s - loss: 0.0127 - accuracy: 0.9959 - val_loss: 0.0429 - val_accuracy: 0.9896\n",
      "Epoch 10/30\n",
      "1500/1500 - 3s - loss: 0.0087 - accuracy: 0.9974 - val_loss: 0.0468 - val_accuracy: 0.9898\n",
      "Epoch 11/30\n",
      "1500/1500 - 3s - loss: 0.0115 - accuracy: 0.9965 - val_loss: 0.0401 - val_accuracy: 0.9913\n",
      "Epoch 12/30\n",
      "1500/1500 - 3s - loss: 0.0086 - accuracy: 0.9971 - val_loss: 0.0369 - val_accuracy: 0.9923\n",
      "Epoch 13/30\n",
      "1500/1500 - 3s - loss: 0.0070 - accuracy: 0.9977 - val_loss: 0.0378 - val_accuracy: 0.9923\n",
      "Epoch 14/30\n",
      "Restoring model weights from the end of the best epoch.\n",
      "1500/1500 - 3s - loss: 0.0074 - accuracy: 0.9975 - val_loss: 0.0441 - val_accuracy: 0.9902\n",
      "Epoch 00014: early stopping\n",
      "> 99.117\n",
      "Epoch 1/30\n",
      "1500/1500 - 4s - loss: 0.1137 - accuracy: 0.9647 - val_loss: 0.0579 - val_accuracy: 0.9832\n",
      "Epoch 2/30\n",
      "1500/1500 - 4s - loss: 0.0418 - accuracy: 0.9873 - val_loss: 0.0554 - val_accuracy: 0.9846\n",
      "Epoch 3/30\n",
      "1500/1500 - 3s - loss: 0.0322 - accuracy: 0.9901 - val_loss: 0.0525 - val_accuracy: 0.9862\n",
      "Epoch 4/30\n",
      "1500/1500 - 3s - loss: 0.0268 - accuracy: 0.9920 - val_loss: 0.0544 - val_accuracy: 0.9858\n",
      "Epoch 5/30\n",
      "1500/1500 - 3s - loss: 0.0181 - accuracy: 0.9944 - val_loss: 0.0520 - val_accuracy: 0.9859\n",
      "Epoch 6/30\n",
      "1500/1500 - 3s - loss: 0.0197 - accuracy: 0.9940 - val_loss: 0.0419 - val_accuracy: 0.9888\n",
      "Epoch 7/30\n",
      "1500/1500 - 5s - loss: 0.0128 - accuracy: 0.9957 - val_loss: 0.0564 - val_accuracy: 0.9861\n",
      "Epoch 8/30\n",
      "1500/1500 - 4s - loss: 0.0145 - accuracy: 0.9954 - val_loss: 0.0520 - val_accuracy: 0.9887\n",
      "Epoch 9/30\n",
      "1500/1500 - 3s - loss: 0.0097 - accuracy: 0.9971 - val_loss: 0.0587 - val_accuracy: 0.9893\n",
      "Epoch 10/30\n",
      "1500/1500 - 3s - loss: 0.0108 - accuracy: 0.9967 - val_loss: 0.0517 - val_accuracy: 0.9890\n",
      "Epoch 11/30\n",
      "1500/1500 - 3s - loss: 0.0071 - accuracy: 0.9976 - val_loss: 0.0462 - val_accuracy: 0.9916\n",
      "Epoch 12/30\n",
      "1500/1500 - 3s - loss: 0.0070 - accuracy: 0.9979 - val_loss: 0.0740 - val_accuracy: 0.9877\n",
      "Epoch 13/30\n",
      "1500/1500 - 3s - loss: 0.0096 - accuracy: 0.9971 - val_loss: 0.0586 - val_accuracy: 0.9885\n",
      "Epoch 14/30\n",
      "1500/1500 - 3s - loss: 0.0065 - accuracy: 0.9981 - val_loss: 0.0573 - val_accuracy: 0.9898\n",
      "Epoch 15/30\n",
      "1500/1500 - 3s - loss: 0.0067 - accuracy: 0.9980 - val_loss: 0.0611 - val_accuracy: 0.9905\n",
      "Epoch 16/30\n",
      "Restoring model weights from the end of the best epoch.\n",
      "1500/1500 - 3s - loss: 0.0061 - accuracy: 0.9982 - val_loss: 0.0662 - val_accuracy: 0.9916\n",
      "Epoch 00016: early stopping\n",
      "> 98.883\n"
     ]
    },
    {
     "name": "stderr",
     "output_type": "stream",
     "text": [
      "C:\\Users\\tsans\\anaconda3\\envs\\py363\\lib\\site-packages\\ipykernel_launcher.py:69: MatplotlibDeprecationWarning: Adding an axes using the same arguments as a previous axes currently reuses the earlier instance.  In a future version, a new instance will always be created and returned.  Meanwhile, this warning can be suppressed, and the future behavior ensured, by passing a unique label to each axes instance.\n",
      "C:\\Users\\tsans\\anaconda3\\envs\\py363\\lib\\site-packages\\ipykernel_launcher.py:74: MatplotlibDeprecationWarning: Adding an axes using the same arguments as a previous axes currently reuses the earlier instance.  In a future version, a new instance will always be created and returned.  Meanwhile, this warning can be suppressed, and the future behavior ensured, by passing a unique label to each axes instance.\n"
     ]
    },
    {
     "data": {
      "image/png": "[encoded data removed]",
      "text/plain": [
       "<Figure size 432x288 with 2 Axes>"
      ]
     },
     "metadata": {
      "needs_background": "light"
     },
     "output_type": "display_data"
    },
    {
     "name": "stdout",
     "output_type": "stream",
     "text": [
      "Accuracy: mean=98.957 std=0.151, n=5\n"
     ]
    },
    {
     "data": {
      "image/png": "[encoded data removed]",
      "text/plain": [
       "<Figure size 432x288 with 1 Axes>"
      ]
     },
     "metadata": {
      "needs_background": "light"
     },
     "output_type": "display_data"
    }
   ],
   "source": [
    "# entry point, run the test harness\n",
    "scores,histories = run_test_harness()"
   ]
  },
  {
   "cell_type": "code",
   "execution_count": 56,
   "id": "framed-figure",
   "metadata": {},
   "outputs": [],
   "source": [
    "#take average validation loss\n",
    "import numpy as np\n",
    "vl0=histories[0].history['val_loss']\n",
    "vl0=np.array(vl0[0:13])"
   ]
  },
  {
   "cell_type": "code",
   "execution_count": 57,
   "id": "official-context",
   "metadata": {},
   "outputs": [],
   "source": [
    "vl1=histories[1].history['val_loss']\n",
    "vl1=np.array(vl1[0:13])"
   ]
  },
  {
   "cell_type": "code",
   "execution_count": 58,
   "id": "downtown-maple",
   "metadata": {},
   "outputs": [],
   "source": [
    "vl2=histories[2].history['val_loss']\n",
    "vl2=np.array(vl2[0:13])"
   ]
  },
  {
   "cell_type": "code",
   "execution_count": 59,
   "id": "terminal-freeware",
   "metadata": {},
   "outputs": [],
   "source": [
    "vl3=histories[3].history['val_loss']\n",
    "vl3=np.array(vl3[0:13])"
   ]
  },
  {
   "cell_type": "code",
   "execution_count": 60,
   "id": "familiar-imperial",
   "metadata": {},
   "outputs": [],
   "source": [
    "vl4=histories[4].history['val_loss']\n",
    "vl4=np.array(vl4[0:13])"
   ]
  },
  {
   "cell_type": "code",
   "execution_count": 64,
   "id": "intelligent-italian",
   "metadata": {},
   "outputs": [],
   "source": [
    "vlavg=[np.mean(k) for k in zip(vl0,vl1,vl2,vl3,vl4)]"
   ]
  },
  {
   "cell_type": "code",
   "execution_count": 67,
   "id": "recovered-master",
   "metadata": {},
   "outputs": [
    {
     "data": {
      "image/png": "[encoded data removed]",
      "text/plain": [
       "<Figure size 432x288 with 1 Axes>"
      ]
     },
     "metadata": {
      "needs_background": "light"
     },
     "output_type": "display_data"
    }
   ],
   "source": [
    "pyplot.subplot(2, 2, 2)\n",
    "pyplot.plot(vlavg, label='Validation Loss')\n",
    "pyplot.legend(loc='upper right')\n",
    "pyplot.title('Validation Loss')\n",
    "pyplot.show()"
   ]
  },
  {
   "cell_type": "code",
   "execution_count": 3,
   "id": "complimentary-bermuda",
   "metadata": {},
   "outputs": [
    {
     "name": "stdout",
     "output_type": "stream",
     "text": [
      "Epoch 1/30\n",
      "1688/1688 - 4s - loss: 0.1087 - accuracy: 0.9668 - val_loss: 0.0508 - val_accuracy: 0.9850\n",
      "Epoch 2/30\n",
      "1688/1688 - 4s - loss: 0.0425 - accuracy: 0.9872 - val_loss: 0.0501 - val_accuracy: 0.9860\n",
      "Epoch 3/30\n",
      "1688/1688 - 4s - loss: 0.0296 - accuracy: 0.9910 - val_loss: 0.0484 - val_accuracy: 0.9883\n",
      "Epoch 4/30\n",
      "1688/1688 - 4s - loss: 0.0250 - accuracy: 0.9922 - val_loss: 0.0537 - val_accuracy: 0.9883\n",
      "Epoch 5/30\n",
      "1688/1688 - 4s - loss: 0.0221 - accuracy: 0.9934 - val_loss: 0.0363 - val_accuracy: 0.9923\n",
      "Epoch 6/30\n",
      "1688/1688 - 4s - loss: 0.0163 - accuracy: 0.9946 - val_loss: 0.0435 - val_accuracy: 0.9920\n",
      "Epoch 7/30\n",
      "1688/1688 - 4s - loss: 0.0149 - accuracy: 0.9956 - val_loss: 0.0488 - val_accuracy: 0.9890\n",
      "Epoch 8/30\n",
      "1688/1688 - 4s - loss: 0.0114 - accuracy: 0.9963 - val_loss: 0.0419 - val_accuracy: 0.9915\n",
      "Epoch 9/30\n",
      "1688/1688 - 4s - loss: 0.0108 - accuracy: 0.9967 - val_loss: 0.0403 - val_accuracy: 0.9917\n",
      "Epoch 10/30\n",
      "1688/1688 - 4s - loss: 0.0071 - accuracy: 0.9977 - val_loss: 0.0440 - val_accuracy: 0.9928\n",
      "Epoch 11/30\n",
      "1688/1688 - 4s - loss: 0.0087 - accuracy: 0.9971 - val_loss: 0.0406 - val_accuracy: 0.9927\n",
      "Epoch 12/30\n",
      "1688/1688 - 4s - loss: 0.0078 - accuracy: 0.9977 - val_loss: 0.0533 - val_accuracy: 0.9912\n",
      "Epoch 13/30\n",
      "1688/1688 - 4s - loss: 0.0091 - accuracy: 0.9972 - val_loss: 0.0502 - val_accuracy: 0.9918\n",
      "Epoch 14/30\n",
      "1688/1688 - 4s - loss: 0.0066 - accuracy: 0.9980 - val_loss: 0.0521 - val_accuracy: 0.9917\n",
      "Epoch 15/30\n",
      "Restoring model weights from the end of the best epoch.\n",
      "1688/1688 - 4s - loss: 0.0054 - accuracy: 0.9982 - val_loss: 0.0472 - val_accuracy: 0.9930\n",
      "Epoch 00015: early stopping\n",
      " \n",
      "Accuracy on Test Set -> 99.180\n"
     ]
    }
   ],
   "source": [
    "def define_model():\n",
    "\tmodel = Sequential()\n",
    "\tmodel.add(Conv2D(32, (3, 3), activation='relu', kernel_initializer='he_uniform', input_shape=(28, 28, 1)))\n",
    "\tmodel.add(BatchNormalization())\n",
    "\tmodel.add(MaxPooling2D((2, 2)))\n",
    "\tmodel.add(Conv2D(64, (3, 3), activation='relu', kernel_initializer='he_uniform'))\n",
    "\tmodel.add(BatchNormalization())\n",
    "\tmodel.add(Conv2D(64, (3, 3), activation='relu', kernel_initializer='he_uniform'))\n",
    "\tmodel.add(BatchNormalization())\n",
    "\tmodel.add(MaxPooling2D((2, 2)))\n",
    "\tmodel.add(Flatten())\n",
    "\tmodel.add(Dense(100, activation='relu', kernel_initializer='he_uniform'))\n",
    "\tmodel.add(Dense(10, activation='softmax'))\n",
    "\t# compile model\n",
    "\topt = Adam(learning_rate=0.001)\n",
    "\tmodel.compile(optimizer=opt, loss='categorical_crossentropy', metrics=['accuracy'])\n",
    "\treturn model\n",
    "\n",
    "scores2=[]\n",
    "histories2=[]\n",
    "model = define_model()\n",
    "trainX, trainY, testX, testY = load_dataset()\n",
    "\n",
    "trainX, testX = prep_pixels(trainX, testX)\n",
    "\n",
    "estp = EarlyStopping(monitor='val_loss', min_delta=0.0005,patience=10, verbose=1, mode='auto',restore_best_weights=True)\n",
    "history = model.fit(trainX, trainY, epochs=30, batch_size=32, validation_split=0.1, verbose=2, callbacks=[estp])\n",
    "# evaluate model\n",
    "_, acc = model.evaluate(testX, testY, verbose=0)\n",
    "print(' ')\n",
    "print('Accuracy on Test Set -> %.3f' % (acc * 100.0))\n",
    "# stores scores\n",
    "scores2.append(acc)\n",
    "histories2.append(history)"
   ]
  },
  {
   "cell_type": "code",
   "execution_count": 4,
   "id": "pressed-barrier",
   "metadata": {},
   "outputs": [
    {
     "data": {
      "image/png": "[encoded data removed]",
      "text/plain": [
       "<Figure size 432x288 with 2 Axes>"
      ]
     },
     "metadata": {
      "needs_background": "light"
     },
     "output_type": "display_data"
    }
   ],
   "source": [
    "def summarize_diagnostics(histories):\n",
    "\tfor i in range(len(histories)):\n",
    "\t\t# plot loss\n",
    "\t\tpyplot.subplot(2, 1, 1)\n",
    "\t\tpyplot.title('Cross Entropy Loss')\n",
    "\t\tpyplot.plot(histories[i].history['loss'], color='blue', label='train')\n",
    "\t\tpyplot.plot(histories[i].history['val_loss'], color='orange', label='test')\n",
    "\t\t# plot accuracy\n",
    "\t\tpyplot.subplot(2, 1, 2)\n",
    "\t\tpyplot.title('Classification Accuracy')\n",
    "\t\tpyplot.plot(histories[i].history['accuracy'], color='blue', label='train')\n",
    "\t\tpyplot.plot(histories[i].history['val_accuracy'], color='orange', label='test')\n",
    "\tpyplot.show()\n",
    "    \n",
    "summarize_diagnostics(histories2)\n"
   ]
  },
  {
   "cell_type": "code",
   "execution_count": 5,
   "id": "israeli-verification",
   "metadata": {},
   "outputs": [
    {
     "name": "stdout",
     "output_type": "stream",
     "text": [
      "Model: \"sequential\"\n",
      "_________________________________________________________________\n",
      "Layer (type)                 Output Shape              Param #   \n",
      "=================================================================\n",
      "conv2d (Conv2D)              (None, 26, 26, 32)        320       \n",
      "_________________________________________________________________\n",
      "batch_normalization (BatchNo (None, 26, 26, 32)        128       \n",
      "_________________________________________________________________\n",
      "max_pooling2d (MaxPooling2D) (None, 13, 13, 32)        0         \n",
      "_________________________________________________________________\n",
      "conv2d_1 (Conv2D)            (None, 11, 11, 64)        18496     \n",
      "_________________________________________________________________\n",
      "batch_normalization_1 (Batch (None, 11, 11, 64)        256       \n",
      "_________________________________________________________________\n",
      "conv2d_2 (Conv2D)            (None, 9, 9, 64)          36928     \n",
      "_________________________________________________________________\n",
      "batch_normalization_2 (Batch (None, 9, 9, 64)          256       \n",
      "_________________________________________________________________\n",
      "max_pooling2d_1 (MaxPooling2 (None, 4, 4, 64)          0         \n",
      "_________________________________________________________________\n",
      "flatten (Flatten)            (None, 1024)              0         \n",
      "_________________________________________________________________\n",
      "dense (Dense)                (None, 100)               102500    \n",
      "_________________________________________________________________\n",
      "dense_1 (Dense)              (None, 10)                1010      \n",
      "=================================================================\n",
      "Total params: 159,894\n",
      "Trainable params: 159,574\n",
      "Non-trainable params: 320\n",
      "_________________________________________________________________\n"
     ]
    }
   ],
   "source": [
    "model.summary()"
   ]
  },
  {
   "cell_type": "code",
   "execution_count": 9,
   "id": "minimal-freeware",
   "metadata": {},
   "outputs": [
    {
     "name": "stdout",
     "output_type": "stream",
     "text": [
      "conv2d (3, 3, 1, 32)\n",
      "conv2d_1 (3, 3, 32, 64)\n",
      "conv2d_2 (3, 3, 64, 64)\n"
     ]
    }
   ],
   "source": [
    "# summarize filter shapes\n",
    "for layer in model.layers:\n",
    "\t# check for convolutional layer\n",
    "\tif 'conv' not in layer.name:\n",
    "\t\tcontinue\n",
    "\t# get filter weights\n",
    "\tfilters, biases = layer.get_weights()\n",
    "\tprint(layer.name, filters.shape)"
   ]
  },
  {
   "cell_type": "code",
   "execution_count": 27,
   "id": "friendly-drama",
   "metadata": {},
   "outputs": [
    {
     "ename": "ValueError",
     "evalue": "The truth value of an array with more than one element is ambiguous. Use a.any() or a.all()",
     "output_type": "error",
     "traceback": [
      "\u001b[1;31m---------------------------------------------------------------------------\u001b[0m",
      "\u001b[1;31mValueError\u001b[0m                                Traceback (most recent call last)",
      "\u001b[1;32m<ipython-input-27-bc7ae1a5404b>\u001b[0m in \u001b[0;36m<module>\u001b[1;34m\u001b[0m\n\u001b[0;32m      1\u001b[0m \u001b[0mfilters\u001b[0m \u001b[1;33m=\u001b[0m \u001b[0mmodel\u001b[0m\u001b[1;33m.\u001b[0m\u001b[0mlayers\u001b[0m\u001b[1;33m[\u001b[0m\u001b[1;36m1\u001b[0m\u001b[1;33m]\u001b[0m\u001b[1;33m.\u001b[0m\u001b[0mget_weights\u001b[0m\u001b[1;33m(\u001b[0m\u001b[1;33m)\u001b[0m\u001b[1;33m\u001b[0m\u001b[1;33m\u001b[0m\u001b[0m\n\u001b[0;32m      2\u001b[0m \u001b[1;31m# normalize filter values to 0-1 so we can visualize them\u001b[0m\u001b[1;33m\u001b[0m\u001b[1;33m\u001b[0m\u001b[1;33m\u001b[0m\u001b[0m\n\u001b[1;32m----> 3\u001b[1;33m \u001b[0mf_min\u001b[0m \u001b[1;33m=\u001b[0m\u001b[0mmin\u001b[0m\u001b[1;33m(\u001b[0m\u001b[0mfilters\u001b[0m\u001b[1;33m)\u001b[0m\u001b[1;33m\u001b[0m\u001b[1;33m\u001b[0m\u001b[0m\n\u001b[0m\u001b[0;32m      4\u001b[0m \u001b[0mf_max\u001b[0m \u001b[1;33m=\u001b[0m \u001b[0mmin\u001b[0m\u001b[1;33m(\u001b[0m\u001b[0mfilters\u001b[0m\u001b[1;33m)\u001b[0m\u001b[1;33m,\u001b[0m \u001b[0mmax\u001b[0m\u001b[1;33m(\u001b[0m\u001b[0mfilters\u001b[0m\u001b[1;33m)\u001b[0m\u001b[1;33m\u001b[0m\u001b[1;33m\u001b[0m\u001b[0m\n\u001b[0;32m      5\u001b[0m \u001b[0mfilters\u001b[0m \u001b[1;33m=\u001b[0m \u001b[1;33m(\u001b[0m\u001b[0mfilters\u001b[0m \u001b[1;33m-\u001b[0m \u001b[0mf_min\u001b[0m\u001b[1;33m)\u001b[0m \u001b[1;33m/\u001b[0m \u001b[1;33m(\u001b[0m\u001b[0mf_max\u001b[0m \u001b[1;33m-\u001b[0m \u001b[0mf_min\u001b[0m\u001b[1;33m)\u001b[0m\u001b[1;33m\u001b[0m\u001b[1;33m\u001b[0m\u001b[0m\n",
      "\u001b[1;31mValueError\u001b[0m: The truth value of an array with more than one element is ambiguous. Use a.any() or a.all()"
     ]
    }
   ],
   "source": [
    "filters = model.layers[1].get_weights()\n",
    "# normalize filter values to 0-1 so we can visualize them\n",
    "f_min =min(filters)\n",
    "f_max = min(filters), max(filters)\n",
    "filters = (filters - f_min) / (f_max - f_min)"
   ]
  },
  {
   "cell_type": "code",
   "execution_count": 26,
   "id": "underlying-tourism",
   "metadata": {},
   "outputs": [
    {
     "ename": "ValueError",
     "evalue": "The truth value of an array with more than one element is ambiguous. Use a.any() or a.all()",
     "output_type": "error",
     "traceback": [
      "\u001b[1;31m---------------------------------------------------------------------------\u001b[0m",
      "\u001b[1;31mValueError\u001b[0m                                Traceback (most recent call last)",
      "\u001b[1;32m<ipython-input-26-e50b4172ee2f>\u001b[0m in \u001b[0;36m<module>\u001b[1;34m\u001b[0m\n\u001b[0;32m      1\u001b[0m \u001b[0mfilters\u001b[0m \u001b[1;33m=\u001b[0m \u001b[0mmodel\u001b[0m\u001b[1;33m.\u001b[0m\u001b[0mlayers\u001b[0m\u001b[1;33m[\u001b[0m\u001b[1;36m1\u001b[0m\u001b[1;33m]\u001b[0m\u001b[1;33m.\u001b[0m\u001b[0mget_weights\u001b[0m\u001b[1;33m(\u001b[0m\u001b[1;33m)\u001b[0m\u001b[1;33m\u001b[0m\u001b[1;33m\u001b[0m\u001b[0m\n\u001b[0;32m      2\u001b[0m \u001b[1;31m# normalize filter values to 0-1 so we can visualize them\u001b[0m\u001b[1;33m\u001b[0m\u001b[1;33m\u001b[0m\u001b[1;33m\u001b[0m\u001b[0m\n\u001b[1;32m----> 3\u001b[1;33m \u001b[0mf_min\u001b[0m\u001b[1;33m,\u001b[0m \u001b[0mf_max\u001b[0m \u001b[1;33m=\u001b[0m \u001b[0mmin\u001b[0m\u001b[1;33m(\u001b[0m\u001b[0mfilters\u001b[0m\u001b[1;33m)\u001b[0m\u001b[1;33m,\u001b[0m \u001b[0mmax\u001b[0m\u001b[1;33m(\u001b[0m\u001b[0mfilters\u001b[0m\u001b[1;33m)\u001b[0m\u001b[1;33m\u001b[0m\u001b[1;33m\u001b[0m\u001b[0m\n\u001b[0m\u001b[0;32m      4\u001b[0m \u001b[0mfilters\u001b[0m \u001b[1;33m=\u001b[0m \u001b[1;33m(\u001b[0m\u001b[0mfilters\u001b[0m \u001b[1;33m-\u001b[0m \u001b[0mf_min\u001b[0m\u001b[1;33m)\u001b[0m \u001b[1;33m/\u001b[0m \u001b[1;33m(\u001b[0m\u001b[0mf_max\u001b[0m \u001b[1;33m-\u001b[0m \u001b[0mf_min\u001b[0m\u001b[1;33m)\u001b[0m\u001b[1;33m\u001b[0m\u001b[1;33m\u001b[0m\u001b[0m\n\u001b[0;32m      5\u001b[0m \u001b[1;31m# plot first few filters\u001b[0m\u001b[1;33m\u001b[0m\u001b[1;33m\u001b[0m\u001b[1;33m\u001b[0m\u001b[0m\n",
      "\u001b[1;31mValueError\u001b[0m: The truth value of an array with more than one element is ambiguous. Use a.any() or a.all()"
     ]
    }
   ],
   "source": [
    "filters = model.layers[1].get_weights()\n",
    "# normalize filter values to 0-1 so we can visualize them\n",
    "f_min, f_max = min(filters), max(filters)\n",
    "filters = (filters - f_min) / (f_max - f_min)\n",
    "# plot first few filters\n",
    "n_filters, ix = 6, 1\n",
    "for i in range(n_filters):\n",
    "\t# get the filter\n",
    "\tf = filters[:, :, :, i]\n",
    "\t# plot each channel separately\n",
    "\tfor j in range(3):\n",
    "\t\t# specify subplot and turn of axis\n",
    "\t\tax = pyplot.subplot(n_filters, 3, ix)\n",
    "\t\tax.set_xticks([])\n",
    "\t\tax.set_yticks([])\n",
    "\t\t# plot filter channel in grayscale\n",
    "\t\tpyplot.imshow(f[:, :, j], cmap='gray')\n",
    "\t\tix += 1\n",
    "# show the figure\n",
    "pyplot.show()"
   ]
  },
  {
   "cell_type": "code",
   "execution_count": 38,
   "id": "endangered-carpet",
   "metadata": {},
   "outputs": [
    {
     "ename": "TypeError",
     "evalue": "'BatchNormalization' object is not iterable",
     "output_type": "error",
     "traceback": [
      "\u001b[1;31m---------------------------------------------------------------------------\u001b[0m",
      "\u001b[1;31mTypeError\u001b[0m                                 Traceback (most recent call last)",
      "\u001b[1;32m<ipython-input-38-8c01fbdac48e>\u001b[0m in \u001b[0;36m<module>\u001b[1;34m\u001b[0m\n\u001b[0;32m      1\u001b[0m \u001b[0mmodel\u001b[0m\u001b[1;33m.\u001b[0m\u001b[0mpredict\u001b[0m\u001b[1;33m(\u001b[0m\u001b[0mtestX\u001b[0m\u001b[1;33m)\u001b[0m\u001b[1;33m\u001b[0m\u001b[1;33m\u001b[0m\u001b[0m\n\u001b[1;32m----> 2\u001b[1;33m \u001b[1;32mfor\u001b[0m \u001b[0mi\u001b[0m \u001b[1;32min\u001b[0m \u001b[0menumerate\u001b[0m\u001b[1;33m(\u001b[0m\u001b[0mmodel\u001b[0m\u001b[1;33m.\u001b[0m\u001b[0mlayers\u001b[0m\u001b[1;33m[\u001b[0m\u001b[1;36m1\u001b[0m\u001b[1;33m]\u001b[0m\u001b[1;33m)\u001b[0m\u001b[1;33m:\u001b[0m\u001b[1;33m\u001b[0m\u001b[1;33m\u001b[0m\u001b[0m\n\u001b[0m\u001b[0;32m      3\u001b[0m     \u001b[1;32mif\u001b[0m \u001b[1;34m'conv'\u001b[0m \u001b[1;32mnot\u001b[0m \u001b[1;32min\u001b[0m \u001b[0mlayer\u001b[0m\u001b[1;33m.\u001b[0m\u001b[0mname\u001b[0m\u001b[1;33m:\u001b[0m\u001b[1;33m\u001b[0m\u001b[1;33m\u001b[0m\u001b[0m\n\u001b[0;32m      4\u001b[0m         \u001b[1;32mcontinue\u001b[0m\u001b[1;33m\u001b[0m\u001b[1;33m\u001b[0m\u001b[0m\n\u001b[0;32m      5\u001b[0m     \u001b[0mmodel\u001b[0m\u001b[1;33m.\u001b[0m\u001b[0mlayers\u001b[0m\u001b[1;33m[\u001b[0m\u001b[0mi\u001b[0m\u001b[1;33m]\u001b[0m\u001b[1;33m.\u001b[0m\u001b[0moutput\u001b[0m\u001b[1;33m\u001b[0m\u001b[1;33m\u001b[0m\u001b[0m\n",
      "\u001b[1;31mTypeError\u001b[0m: 'BatchNormalization' object is not iterable"
     ]
    }
   ],
   "source": [
    "model.predict(testX)\n",
    "for i in enumerate(model.layers[1]):\n",
    "    if 'conv' not in layer.name:\n",
    "        continue\n",
    "    model.layers[i].output"
   ]
  },
  {
   "cell_type": "code",
   "execution_count": 33,
   "id": "legal-citizenship",
   "metadata": {},
   "outputs": [
    {
     "ename": "IndentationError",
     "evalue": "expected an indented block (<ipython-input-33-d07f3407b5b4>, line 3)",
     "output_type": "error",
     "traceback": [
      "\u001b[1;36m  File \u001b[1;32m\"<ipython-input-33-d07f3407b5b4>\"\u001b[1;36m, line \u001b[1;32m3\u001b[0m\n\u001b[1;33m    model.layers[i].output\u001b[0m\n\u001b[1;37m        ^\u001b[0m\n\u001b[1;31mIndentationError\u001b[0m\u001b[1;31m:\u001b[0m expected an indented block\n"
     ]
    }
   ],
   "source": []
  },
  {
   "cell_type": "code",
   "execution_count": null,
   "id": "finite-trail",
   "metadata": {},
   "outputs": [],
   "source": []
  }
 ],
 "metadata": {
  "kernelspec": {
   "display_name": "Python 3",
   "language": "python",
   "name": "python3"
  },
  "language_info": {
   "codemirror_mode": {
    "name": "ipython",
    "version": 3
   },
   "file_extension": ".py",
   "mimetype": "text/x-python",
   "name": "python",
   "nbconvert_exporter": "python",
   "pygments_lexer": "ipython3",
   "version": "3.6.13"
  }
 },
 "nbformat": 4,
 "nbformat_minor": 5
}
