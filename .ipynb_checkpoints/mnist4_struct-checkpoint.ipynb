{
 "cells": [
  {
   "cell_type": "code",
   "execution_count": 2,
   "id": "obvious-victory",
   "metadata": {},
   "outputs": [
    {
     "name": "stdout",
     "output_type": "stream",
     "text": [
      "Epoch 1/30\n",
      "1500/1500 - 5s - loss: 0.1309 - accuracy: 0.9605 - val_loss: 0.0709 - val_accuracy: 0.9804\n",
      "Epoch 2/30\n",
      "1500/1500 - 4s - loss: 0.0546 - accuracy: 0.9842 - val_loss: 0.0754 - val_accuracy: 0.9798\n",
      "Epoch 3/30\n",
      "1500/1500 - 4s - loss: 0.0383 - accuracy: 0.9891 - val_loss: 0.0514 - val_accuracy: 0.9860\n",
      "Epoch 4/30\n",
      "1500/1500 - 4s - loss: 0.0327 - accuracy: 0.9908 - val_loss: 0.0401 - val_accuracy: 0.9892\n",
      "Epoch 5/30\n",
      "1500/1500 - 4s - loss: 0.0291 - accuracy: 0.9923 - val_loss: 0.0485 - val_accuracy: 0.9883\n",
      "Epoch 6/30\n",
      "1500/1500 - 4s - loss: 0.0243 - accuracy: 0.9936 - val_loss: 0.0647 - val_accuracy: 0.9846\n",
      "Epoch 7/30\n",
      "1500/1500 - 4s - loss: 0.0223 - accuracy: 0.9941 - val_loss: 0.0503 - val_accuracy: 0.9856\n",
      "Epoch 8/30\n",
      "1500/1500 - 4s - loss: 0.0171 - accuracy: 0.9955 - val_loss: 0.0792 - val_accuracy: 0.9844\n",
      "Epoch 9/30\n",
      "1500/1500 - 4s - loss: 0.0200 - accuracy: 0.9948 - val_loss: 0.0454 - val_accuracy: 0.9893\n",
      "Epoch 10/30\n",
      "1500/1500 - 4s - loss: 0.0147 - accuracy: 0.9962 - val_loss: 0.0697 - val_accuracy: 0.9893\n",
      "Epoch 11/30\n",
      "1500/1500 - 4s - loss: 0.0172 - accuracy: 0.9954 - val_loss: 0.0516 - val_accuracy: 0.9898\n",
      "Epoch 12/30\n",
      "1500/1500 - 4s - loss: 0.0127 - accuracy: 0.9964 - val_loss: 0.0602 - val_accuracy: 0.9888\n",
      "Epoch 13/30\n",
      "1500/1500 - 4s - loss: 0.0154 - accuracy: 0.9962 - val_loss: 0.0771 - val_accuracy: 0.9874\n",
      "Epoch 14/30\n",
      "Restoring model weights from the end of the best epoch.\n",
      "1500/1500 - 4s - loss: 0.0135 - accuracy: 0.9968 - val_loss: 0.0959 - val_accuracy: 0.9864\n",
      "Epoch 00014: early stopping\n",
      "> 98.917\n",
      "Epoch 1/30\n",
      "1500/1500 - 5s - loss: 0.1403 - accuracy: 0.9581 - val_loss: 0.0677 - val_accuracy: 0.9810\n",
      "Epoch 2/30\n",
      "1500/1500 - 4s - loss: 0.0545 - accuracy: 0.9846 - val_loss: 0.0491 - val_accuracy: 0.9877\n",
      "Epoch 3/30\n",
      "1500/1500 - 4s - loss: 0.0387 - accuracy: 0.9893 - val_loss: 0.0636 - val_accuracy: 0.9827\n",
      "Epoch 4/30\n",
      "1500/1500 - 4s - loss: 0.0352 - accuracy: 0.9905 - val_loss: 0.0637 - val_accuracy: 0.9846\n",
      "Epoch 5/30\n",
      "1500/1500 - 4s - loss: 0.0291 - accuracy: 0.9923 - val_loss: 0.0513 - val_accuracy: 0.9888\n",
      "Epoch 6/30\n",
      "1500/1500 - 4s - loss: 0.0265 - accuracy: 0.9932 - val_loss: 0.0630 - val_accuracy: 0.9850\n",
      "Epoch 7/30\n",
      "1500/1500 - 4s - loss: 0.0193 - accuracy: 0.9947 - val_loss: 0.0582 - val_accuracy: 0.9875\n",
      "Epoch 8/30\n",
      "1500/1500 - 4s - loss: 0.0188 - accuracy: 0.9951 - val_loss: 0.0488 - val_accuracy: 0.9879\n",
      "Epoch 9/30\n",
      "1500/1500 - 4s - loss: 0.0194 - accuracy: 0.9949 - val_loss: 0.0963 - val_accuracy: 0.9831\n",
      "Epoch 10/30\n",
      "1500/1500 - 4s - loss: 0.0171 - accuracy: 0.9959 - val_loss: 0.0510 - val_accuracy: 0.9900\n",
      "Epoch 11/30\n",
      "1500/1500 - 4s - loss: 0.0182 - accuracy: 0.9958 - val_loss: 0.0554 - val_accuracy: 0.9893\n",
      "Epoch 12/30\n",
      "1500/1500 - 4s - loss: 0.0138 - accuracy: 0.9967 - val_loss: 0.0463 - val_accuracy: 0.9903\n",
      "Epoch 13/30\n",
      "1500/1500 - 4s - loss: 0.0133 - accuracy: 0.9968 - val_loss: 0.0477 - val_accuracy: 0.9905\n",
      "Epoch 14/30\n",
      "1500/1500 - 4s - loss: 0.0122 - accuracy: 0.9969 - val_loss: 0.0517 - val_accuracy: 0.9909\n",
      "Epoch 15/30\n",
      "1500/1500 - 4s - loss: 0.0167 - accuracy: 0.9961 - val_loss: 0.0666 - val_accuracy: 0.9882\n",
      "Epoch 16/30\n",
      "1500/1500 - 4s - loss: 0.0111 - accuracy: 0.9973 - val_loss: 0.0555 - val_accuracy: 0.9901\n",
      "Epoch 17/30\n",
      "1500/1500 - 4s - loss: 0.0115 - accuracy: 0.9972 - val_loss: 0.0572 - val_accuracy: 0.9914\n",
      "Epoch 18/30\n",
      "1500/1500 - 5s - loss: 0.0126 - accuracy: 0.9973 - val_loss: 0.0633 - val_accuracy: 0.9902\n",
      "Epoch 19/30\n",
      "1500/1500 - 4s - loss: 0.0107 - accuracy: 0.9976 - val_loss: 0.0940 - val_accuracy: 0.9871\n",
      "Epoch 20/30\n",
      "1500/1500 - 4s - loss: 0.0145 - accuracy: 0.9969 - val_loss: 0.0676 - val_accuracy: 0.9902\n",
      "Epoch 21/30\n",
      "1500/1500 - 4s - loss: 0.0128 - accuracy: 0.9974 - val_loss: 0.0757 - val_accuracy: 0.9897\n",
      "Epoch 22/30\n",
      "Restoring model weights from the end of the best epoch.\n",
      "1500/1500 - 4s - loss: 0.0124 - accuracy: 0.9973 - val_loss: 0.0901 - val_accuracy: 0.9896\n",
      "Epoch 00022: early stopping\n",
      "> 99.033\n",
      "Epoch 1/30\n",
      "1500/1500 - 4s - loss: 0.1305 - accuracy: 0.9611 - val_loss: 0.0712 - val_accuracy: 0.9796\n",
      "Epoch 2/30\n",
      "1500/1500 - 4s - loss: 0.0561 - accuracy: 0.9839 - val_loss: 0.0641 - val_accuracy: 0.9833\n",
      "Epoch 3/30\n",
      "1500/1500 - 4s - loss: 0.0395 - accuracy: 0.9889 - val_loss: 0.0571 - val_accuracy: 0.9857\n",
      "Epoch 4/30\n",
      "1500/1500 - 4s - loss: 0.0341 - accuracy: 0.9908 - val_loss: 0.0554 - val_accuracy: 0.9868\n",
      "Epoch 5/30\n",
      "1500/1500 - 4s - loss: 0.0262 - accuracy: 0.9927 - val_loss: 0.0677 - val_accuracy: 0.9868\n",
      "Epoch 6/30\n",
      "1500/1500 - 4s - loss: 0.0252 - accuracy: 0.9934 - val_loss: 0.0977 - val_accuracy: 0.9797\n",
      "Epoch 7/30\n",
      "1500/1500 - 4s - loss: 0.0259 - accuracy: 0.9933 - val_loss: 0.0559 - val_accuracy: 0.9868\n",
      "Epoch 8/30\n",
      "1500/1500 - 4s - loss: 0.0166 - accuracy: 0.9954 - val_loss: 0.0650 - val_accuracy: 0.9878\n",
      "Epoch 9/30\n",
      "1500/1500 - 4s - loss: 0.0199 - accuracy: 0.9945 - val_loss: 0.0576 - val_accuracy: 0.9900\n",
      "Epoch 10/30\n",
      "1500/1500 - 4s - loss: 0.0155 - accuracy: 0.9956 - val_loss: 0.0629 - val_accuracy: 0.9887\n",
      "Epoch 11/30\n",
      "1500/1500 - 4s - loss: 0.0164 - accuracy: 0.9959 - val_loss: 0.0615 - val_accuracy: 0.9910\n",
      "Epoch 12/30\n",
      "1500/1500 - 4s - loss: 0.0154 - accuracy: 0.9964 - val_loss: 0.0654 - val_accuracy: 0.9883\n",
      "Epoch 13/30\n",
      "1500/1500 - 4s - loss: 0.0156 - accuracy: 0.9960 - val_loss: 0.0897 - val_accuracy: 0.9895\n",
      "Epoch 14/30\n",
      "Restoring model weights from the end of the best epoch.\n",
      "1500/1500 - 4s - loss: 0.0124 - accuracy: 0.9969 - val_loss: 0.0646 - val_accuracy: 0.9911\n",
      "Epoch 00014: early stopping\n",
      "> 98.675\n",
      "Epoch 1/30\n",
      "1500/1500 - 5s - loss: 0.1287 - accuracy: 0.9604 - val_loss: 0.0782 - val_accuracy: 0.9762\n",
      "Epoch 2/30\n",
      "1500/1500 - 4s - loss: 0.0531 - accuracy: 0.9848 - val_loss: 0.0382 - val_accuracy: 0.9891\n",
      "Epoch 3/30\n",
      "1500/1500 - 4s - loss: 0.0389 - accuracy: 0.9890 - val_loss: 0.0443 - val_accuracy: 0.9878\n",
      "Epoch 4/30\n",
      "1500/1500 - 4s - loss: 0.0319 - accuracy: 0.9909 - val_loss: 0.0362 - val_accuracy: 0.9898\n",
      "Epoch 5/30\n",
      "1500/1500 - 4s - loss: 0.0270 - accuracy: 0.9928 - val_loss: 0.0445 - val_accuracy: 0.9898\n",
      "Epoch 6/30\n",
      "1500/1500 - 4s - loss: 0.0215 - accuracy: 0.9944 - val_loss: 0.0543 - val_accuracy: 0.9898\n",
      "Epoch 7/30\n",
      "1500/1500 - 4s - loss: 0.0226 - accuracy: 0.9942 - val_loss: 0.0540 - val_accuracy: 0.9872\n",
      "Epoch 8/30\n",
      "1500/1500 - 4s - loss: 0.0200 - accuracy: 0.9947 - val_loss: 0.0441 - val_accuracy: 0.9908\n",
      "Epoch 9/30\n",
      "1500/1500 - 4s - loss: 0.0159 - accuracy: 0.9960 - val_loss: 0.0505 - val_accuracy: 0.9912\n",
      "Epoch 10/30\n",
      "1500/1500 - 4s - loss: 0.0162 - accuracy: 0.9960 - val_loss: 0.0371 - val_accuracy: 0.9929\n",
      "Epoch 11/30\n",
      "1500/1500 - 4s - loss: 0.0173 - accuracy: 0.9960 - val_loss: 0.0412 - val_accuracy: 0.9908\n",
      "Epoch 12/30\n",
      "1500/1500 - 4s - loss: 0.0118 - accuracy: 0.9968 - val_loss: 0.0454 - val_accuracy: 0.9918\n",
      "Epoch 13/30\n",
      "1500/1500 - 4s - loss: 0.0180 - accuracy: 0.9959 - val_loss: 0.0678 - val_accuracy: 0.9840\n",
      "Epoch 14/30\n",
      "Restoring model weights from the end of the best epoch.\n",
      "1500/1500 - 4s - loss: 0.0115 - accuracy: 0.9971 - val_loss: 0.0649 - val_accuracy: 0.9900\n",
      "Epoch 00014: early stopping\n",
      "> 98.975\n",
      "Epoch 1/30\n",
      "WARNING:tensorflow:Callbacks method `on_test_batch_end` is slow compared to the batch time (batch time: 0.0000s vs `on_test_batch_end` time: 0.0011s). Check your callbacks.\n",
      "1500/1500 - 4s - loss: 0.1228 - accuracy: 0.9631 - val_loss: 0.0537 - val_accuracy: 0.9847\n",
      "Epoch 2/30\n",
      "1500/1500 - 4s - loss: 0.0506 - accuracy: 0.9850 - val_loss: 0.0632 - val_accuracy: 0.9822\n",
      "Epoch 3/30\n",
      "1500/1500 - 4s - loss: 0.0418 - accuracy: 0.9884 - val_loss: 0.0557 - val_accuracy: 0.9842\n",
      "Epoch 4/30\n",
      "1500/1500 - 4s - loss: 0.0311 - accuracy: 0.9923 - val_loss: 0.0474 - val_accuracy: 0.9887\n",
      "Epoch 5/30\n",
      "1500/1500 - 4s - loss: 0.0269 - accuracy: 0.9928 - val_loss: 0.0419 - val_accuracy: 0.9906\n",
      "Epoch 6/30\n",
      "1500/1500 - 4s - loss: 0.0241 - accuracy: 0.9937 - val_loss: 0.0483 - val_accuracy: 0.9900\n",
      "Epoch 7/30\n",
      "1500/1500 - 4s - loss: 0.0202 - accuracy: 0.9950 - val_loss: 0.0420 - val_accuracy: 0.9909\n",
      "Epoch 8/30\n",
      "1500/1500 - 4s - loss: 0.0187 - accuracy: 0.9952 - val_loss: 0.0600 - val_accuracy: 0.9852\n",
      "Epoch 9/30\n",
      "1500/1500 - 4s - loss: 0.0164 - accuracy: 0.9959 - val_loss: 0.0892 - val_accuracy: 0.9863\n",
      "Epoch 10/30\n",
      "1500/1500 - 4s - loss: 0.0170 - accuracy: 0.9961 - val_loss: 0.1128 - val_accuracy: 0.9787\n",
      "Epoch 11/30\n",
      "1500/1500 - 4s - loss: 0.0164 - accuracy: 0.9962 - val_loss: 0.0525 - val_accuracy: 0.9902\n",
      "Epoch 12/30\n",
      "1500/1500 - 4s - loss: 0.0146 - accuracy: 0.9968 - val_loss: 0.0606 - val_accuracy: 0.9909\n",
      "Epoch 13/30\n",
      "1500/1500 - 4s - loss: 0.0151 - accuracy: 0.9964 - val_loss: 0.0467 - val_accuracy: 0.9920\n",
      "Epoch 14/30\n",
      "1500/1500 - 5s - loss: 0.0142 - accuracy: 0.9967 - val_loss: 0.0566 - val_accuracy: 0.9914\n",
      "Epoch 15/30\n",
      "Restoring model weights from the end of the best epoch.\n",
      "1500/1500 - 4s - loss: 0.0114 - accuracy: 0.9974 - val_loss: 0.0558 - val_accuracy: 0.9913\n",
      "Epoch 00015: early stopping\n",
      "> 99.058\n"
     ]
    },
    {
     "name": "stderr",
     "output_type": "stream",
     "text": [
      "C:\\Users\\tsans\\anaconda3\\envs\\py363\\lib\\site-packages\\ipykernel_launcher.py:90: MatplotlibDeprecationWarning: Adding an axes using the same arguments as a previous axes currently reuses the earlier instance.  In a future version, a new instance will always be created and returned.  Meanwhile, this warning can be suppressed, and the future behavior ensured, by passing a unique label to each axes instance.\n",
      "C:\\Users\\tsans\\anaconda3\\envs\\py363\\lib\\site-packages\\ipykernel_launcher.py:95: MatplotlibDeprecationWarning: Adding an axes using the same arguments as a previous axes currently reuses the earlier instance.  In a future version, a new instance will always be created and returned.  Meanwhile, this warning can be suppressed, and the future behavior ensured, by passing a unique label to each axes instance.\n"
     ]
    },
    {
     "data": {
      "image/png": "[encoded data removed]",
      "text/plain": [
       "<Figure size 432x288 with 2 Axes>"
      ]
     },
     "metadata": {
      "needs_background": "light"
     },
     "output_type": "display_data"
    },
    {
     "name": "stdout",
     "output_type": "stream",
     "text": [
      "Accuracy: mean=98.932 std=0.137, n=5\n"
     ]
    },
    {
     "data": {
      "image/png": "[encoded data removed]",
      "text/plain": [
       "<Figure size 432x288 with 1 Axes>"
      ]
     },
     "metadata": {
      "needs_background": "light"
     },
     "output_type": "display_data"
    }
   ],
   "source": [
    "from sklearn.model_selection import KFold\n",
    "from tensorflow.keras.utils import to_categorical\n",
    "# baseline cnn model for mnist\n",
    "from numpy import mean\n",
    "from numpy import std\n",
    "from matplotlib import pyplot\n",
    "from sklearn.model_selection import KFold\n",
    "from tensorflow.keras.datasets import mnist\n",
    "from tensorflow.keras.models import Sequential\n",
    "from tensorflow.keras.layers import Conv2D\n",
    "from tensorflow.keras.layers import MaxPooling2D\n",
    "from tensorflow.keras.layers import Dense\n",
    "from tensorflow.keras.layers import Flatten\n",
    "from tensorflow.keras.optimizers import Adam\n",
    "from tensorflow.keras.layers import Dropout\n",
    "from tensorflow.keras.optimizers import SGD\n",
    "from tensorflow.keras.layers import BatchNormalization\n",
    "from tensorflow.keras.callbacks import EarlyStopping\n",
    "\n",
    "\n",
    "def load_dataset():\n",
    "\t# load dataset\n",
    "\t(trainX, trainY), (testX, testY) = mnist.load_data()\n",
    "\t# reshape dataset to have a single channel\n",
    "\ttrainX = trainX.reshape((trainX.shape[0], 28, 28, 1))\n",
    "\ttestX = testX.reshape((testX.shape[0], 28, 28, 1))\n",
    "\t# one hot encode target values\n",
    "\ttrainY = to_categorical(trainY)\n",
    "\ttestY = to_categorical(testY)\n",
    "\treturn trainX, trainY, testX, testY\n",
    " \n",
    "# scale pixels\n",
    "def prep_pixels(train, test):\n",
    "\t# convert from integers to floats\n",
    "\ttrain_norm = train.astype('float32')\n",
    "\ttest_norm = test.astype('float32')\n",
    "\t# normalize to range 0-1\n",
    "\ttrain_norm = train_norm / 255.0\n",
    "\ttest_norm = test_norm / 255.0\n",
    "\t# return normalized images\n",
    "\treturn train_norm, test_norm\n",
    " \n",
    "    \n",
    "def define_model():\n",
    "\tmodel = Sequential()\n",
    "\tmodel.add(Conv2D(32, (3, 3), activation='relu', kernel_initializer='he_uniform', input_shape=(28, 28, 1)))\n",
    "\tmodel.add(Conv2D(32, (3, 3), activation='relu', kernel_initializer='he_uniform', input_shape=(28, 28, 1)))\n",
    "\tmodel.add(MaxPooling2D((2, 2)))\n",
    "\tmodel.add(Conv2D(64, (3, 3), activation='relu', kernel_initializer='he_uniform'))\n",
    "\tmodel.add(Conv2D(64, (3, 3), activation='relu', kernel_initializer='he_uniform'))\n",
    "\tmodel.add(MaxPooling2D((2, 2)))\n",
    "\tmodel.add(Flatten())\n",
    "\tmodel.add(Dense(1024, activation='relu', kernel_initializer='he_uniform'))\n",
    "\tmodel.add(Dropout(0.1))\n",
    "\tmodel.add(Dense(512, activation='relu', kernel_initializer='he_uniform'))\n",
    "\tmodel.add(Dense(128, activation='relu', kernel_initializer='he_uniform'))\n",
    "\tmodel.add(Dense(10, activation='softmax'))\n",
    "\t# compile model\n",
    "\topt = Adam(learning_rate=0.001)\n",
    "\tmodel.compile(optimizer=opt, loss='categorical_crossentropy', metrics=['accuracy'])\n",
    "\treturn model\n",
    "\n",
    "\n",
    "# evaluate a model using k-fold cross-validation\n",
    "def evaluate_model(dataX, dataY, n_folds=5):\n",
    "\tscores, histories = list(), list()\n",
    "\t# prepare cross validation\n",
    "\tkfold = KFold(n_folds, shuffle=True, random_state=1)\n",
    "\t# enumerate splits\n",
    "\tfor train_ix, test_ix in kfold.split(dataX):\n",
    "\t\t# define model\n",
    "\t\tmodel = define_model()\n",
    "\t\t# select rows for train and test\n",
    "\t\ttrainX, trainY, testX, testY = dataX[train_ix], dataY[train_ix], dataX[test_ix], dataY[test_ix]\n",
    "\t\t# fit model\n",
    "\t\testp = EarlyStopping(monitor='val_loss', min_delta=0.0005,patience=10, verbose=1, mode='auto',restore_best_weights=True)\n",
    "\t\thistory = model.fit(trainX, trainY, epochs=30, batch_size=32, validation_data=(testX, testY), verbose=2, callbacks=[estp])\n",
    "\t\t# evaluate model\n",
    "\t\t_, acc = model.evaluate(testX, testY, verbose=0)\n",
    "\t\tprint('> %.3f' % (acc * 100.0))\n",
    "\t\t# stores scores\n",
    "\t\tscores.append(acc)\n",
    "\t\thistories.append(history)\n",
    "\treturn scores, histories\n",
    " \n",
    "# plot diagnostic learning curves\n",
    "def summarize_diagnostics(histories):\n",
    "\tfor i in range(len(histories)):\n",
    "\t\t# plot loss\n",
    "\t\tpyplot.subplot(2, 1, 1)\n",
    "\t\tpyplot.title('Cross Entropy Loss')\n",
    "\t\tpyplot.plot(histories[i].history['loss'], color='blue', label='train')\n",
    "\t\tpyplot.plot(histories[i].history['val_loss'], color='orange', label='test')\n",
    "\t\t# plot accuracy\n",
    "\t\tpyplot.subplot(2, 1, 2)\n",
    "\t\tpyplot.title('Classification Accuracy')\n",
    "\t\tpyplot.plot(histories[i].history['accuracy'], color='blue', label='train')\n",
    "\t\tpyplot.plot(histories[i].history['val_accuracy'], color='orange', label='test')\n",
    "\tpyplot.show()\n",
    " \n",
    "# summarize model performance\n",
    "def summarize_performance(scores):\n",
    "\t# print summary\n",
    "\tprint('Accuracy: mean=%.3f std=%.3f, n=%d' % (mean(scores)*100, std(scores)*100, len(scores)))\n",
    "\t# box and whisker plots of results\n",
    "\tpyplot.boxplot(scores)\n",
    "\tpyplot.show()\n",
    " \n",
    "# run the test harness for evaluating a model\n",
    "def run_test_harness():\n",
    "\t# load dataset\n",
    "\ttrainX, trainY, testX, testY = load_dataset()\n",
    "\t# prepare pixel data\n",
    "\ttrainX, testX = prep_pixels(trainX, testX)\n",
    "\t# evaluate model\n",
    "\tscores, histories = evaluate_model(trainX, trainY)\n",
    "\t# learning curves\n",
    "\tsummarize_diagnostics(histories)\n",
    "\t# summarize estimated performance\n",
    "\tsummarize_performance(scores)\n",
    "\treturn scores, histories\n",
    "    \n",
    " \n",
    "# entry point, run the test harness\n",
    "scores,histories = run_test_harness()"
   ]
  },
  {
   "cell_type": "code",
   "execution_count": null,
   "id": "colonial-mainstream",
   "metadata": {},
   "outputs": [],
   "source": []
  },
  {
   "cell_type": "code",
   "execution_count": 2,
   "id": "established-letter",
   "metadata": {},
   "outputs": [],
   "source": [
    "import numpy as np\n",
    "vl0=histories[0].history['val_loss']\n",
    "vl0=np.array(vl0[0:13])"
   ]
  },
  {
   "cell_type": "code",
   "execution_count": 3,
   "id": "adaptive-donna",
   "metadata": {},
   "outputs": [],
   "source": [
    "vl1=histories[1].history['val_loss']\n",
    "vl1=np.array(vl1[0:13])"
   ]
  },
  {
   "cell_type": "code",
   "execution_count": 4,
   "id": "mexican-october",
   "metadata": {},
   "outputs": [],
   "source": [
    "vl2=histories[2].history['val_loss']\n",
    "vl2=np.array(vl2[0:13])"
   ]
  },
  {
   "cell_type": "code",
   "execution_count": 5,
   "id": "announced-combine",
   "metadata": {},
   "outputs": [],
   "source": [
    "vl3=histories[3].history['val_loss']\n",
    "vl3=np.array(vl3[0:13])"
   ]
  },
  {
   "cell_type": "code",
   "execution_count": 6,
   "id": "severe-humanitarian",
   "metadata": {},
   "outputs": [],
   "source": [
    "vl4=histories[4].history['val_loss']\n",
    "vl4=np.array(vl4[0:13])"
   ]
  },
  {
   "cell_type": "code",
   "execution_count": 7,
   "id": "careful-speaker",
   "metadata": {},
   "outputs": [],
   "source": [
    "vlavg=[np.mean(k) for k in zip(vl0,vl1,vl2,vl3,vl4)]"
   ]
  },
  {
   "cell_type": "code",
   "execution_count": 8,
   "id": "empirical-executive",
   "metadata": {},
   "outputs": [
    {
     "data": {
      "image/png": "[encoded data removed]",
      "text/plain": [
       "<Figure size 432x288 with 1 Axes>"
      ]
     },
     "metadata": {
      "needs_background": "light"
     },
     "output_type": "display_data"
    }
   ],
   "source": [
    "pyplot.subplot(2, 2, 2)\n",
    "pyplot.plot(vlavg, label='Validation Loss')\n",
    "pyplot.legend(loc='upper right')\n",
    "pyplot.title('Validation Loss')\n",
    "pyplot.show()"
   ]
  },
  {
   "cell_type": "code",
   "execution_count": 74,
   "id": "lyric-belle",
   "metadata": {},
   "outputs": [],
   "source": [
    "# plot diagnostic learning curves\n",
    "def summarize_diagnostics2(histories):\n",
    "\tfor i in range(len(histories)):\n",
    "\t\t# plot loss\n",
    "\t\tpyplot.subplot(2, 1, figsize=(15,15))\n",
    "\t\tpyplot.title('Cross Entropy Loss')\n",
    "\t\tpyplot.plot(histories[i].history['loss'], color='blue', label='training loss')\n",
    "\t\tpyplot.plot(histories[i].history['val_loss'], color='orange', label='validation loss')\n",
    "\t\t# plot accuracy\n",
    "\t\tpyplot.subplot(2, 1, 2)\n",
    "\t\tpyplot.title('Classification Accuracy')\n",
    "\t\tpyplot.plot(histories[i].history['accuracy'], color='blue', label='train')\n",
    "\t\tpyplot.plot(histories[i].history['val_accuracy'], color='orange', label='test')\n",
    "\tpyplot.show()"
   ]
  },
  {
   "cell_type": "code",
   "execution_count": 75,
   "id": "present-palestine",
   "metadata": {},
   "outputs": [
    {
     "name": "stderr",
     "output_type": "stream",
     "text": [
      "C:\\Users\\tsans\\anaconda3\\envs\\py363\\lib\\site-packages\\ipykernel_launcher.py:87: MatplotlibDeprecationWarning: Adding an axes using the same arguments as a previous axes currently reuses the earlier instance.  In a future version, a new instance will always be created and returned.  Meanwhile, this warning can be suppressed, and the future behavior ensured, by passing a unique label to each axes instance.\n",
      "C:\\Users\\tsans\\anaconda3\\envs\\py363\\lib\\site-packages\\ipykernel_launcher.py:92: MatplotlibDeprecationWarning: Adding an axes using the same arguments as a previous axes currently reuses the earlier instance.  In a future version, a new instance will always be created and returned.  Meanwhile, this warning can be suppressed, and the future behavior ensured, by passing a unique label to each axes instance.\n"
     ]
    },
    {
     "data": {
      "image/png": "[encoded data removed]",
      "text/plain": [
       "<Figure size 432x288 with 2 Axes>"
      ]
     },
     "metadata": {
      "needs_background": "light"
     },
     "output_type": "display_data"
    }
   ],
   "source": [
    "summarize_diagnostics(histories)"
   ]
  },
  {
   "cell_type": "code",
   "execution_count": 10,
   "id": "wired-finger",
   "metadata": {},
   "outputs": [
    {
     "name": "stdout",
     "output_type": "stream",
     "text": [
      "Epoch 1/30\n",
      "1688/1688 - 3s - loss: 0.1266 - accuracy: 0.9609 - val_loss: 0.0496 - val_accuracy: 0.9857\n",
      "Epoch 2/30\n",
      "1688/1688 - 3s - loss: 0.0465 - accuracy: 0.9850 - val_loss: 0.0399 - val_accuracy: 0.9893\n",
      "Epoch 3/30\n",
      "1688/1688 - 3s - loss: 0.0306 - accuracy: 0.9903 - val_loss: 0.0386 - val_accuracy: 0.9910\n",
      "Epoch 4/30\n",
      "1688/1688 - 3s - loss: 0.0233 - accuracy: 0.9924 - val_loss: 0.0398 - val_accuracy: 0.9885\n",
      "Epoch 5/30\n",
      "1688/1688 - 3s - loss: 0.0189 - accuracy: 0.9942 - val_loss: 0.0335 - val_accuracy: 0.9912\n",
      "Epoch 6/30\n",
      "1688/1688 - 3s - loss: 0.0139 - accuracy: 0.9954 - val_loss: 0.0327 - val_accuracy: 0.9915\n",
      "Epoch 7/30\n",
      "1688/1688 - 3s - loss: 0.0125 - accuracy: 0.9958 - val_loss: 0.0370 - val_accuracy: 0.9905\n",
      "Epoch 8/30\n",
      "1688/1688 - 3s - loss: 0.0105 - accuracy: 0.9965 - val_loss: 0.0418 - val_accuracy: 0.9902\n",
      "Epoch 9/30\n",
      "1688/1688 - 3s - loss: 0.0088 - accuracy: 0.9973 - val_loss: 0.0583 - val_accuracy: 0.9878\n",
      "Epoch 10/30\n",
      "1688/1688 - 3s - loss: 0.0085 - accuracy: 0.9971 - val_loss: 0.0573 - val_accuracy: 0.9908\n",
      "Epoch 11/30\n",
      "1688/1688 - 3s - loss: 0.0073 - accuracy: 0.9976 - val_loss: 0.0651 - val_accuracy: 0.9883\n",
      "Epoch 12/30\n",
      "1688/1688 - 3s - loss: 0.0060 - accuracy: 0.9980 - val_loss: 0.0480 - val_accuracy: 0.9918\n",
      "Epoch 13/30\n",
      "1688/1688 - 3s - loss: 0.0049 - accuracy: 0.9986 - val_loss: 0.0493 - val_accuracy: 0.9925\n",
      "Epoch 14/30\n",
      "1688/1688 - 3s - loss: 0.0055 - accuracy: 0.9984 - val_loss: 0.0471 - val_accuracy: 0.9928\n",
      "Epoch 15/30\n",
      "1688/1688 - 3s - loss: 0.0083 - accuracy: 0.9974 - val_loss: 0.0582 - val_accuracy: 0.9903\n",
      "Epoch 16/30\n",
      "Restoring model weights from the end of the best epoch.\n",
      "1688/1688 - 3s - loss: 0.0049 - accuracy: 0.9986 - val_loss: 0.0580 - val_accuracy: 0.9900\n",
      "Epoch 00016: early stopping\n",
      " \n",
      "Accuracy on Test Set -> 99.090\n"
     ]
    }
   ],
   "source": [
    "scores2=[]\n",
    "histories2=[]\n",
    "model = define_model()\n",
    "trainX, trainY, testX, testY = load_dataset()\n",
    "\n",
    "trainX, testX = prep_pixels(trainX, testX)\n",
    "\n",
    "estp = EarlyStopping(monitor='val_loss', min_delta=0.0005,patience=10, verbose=1, mode='auto',restore_best_weights=True)\n",
    "history = model.fit(trainX, trainY, epochs=30, batch_size=32, validation_split=0.1, verbose=2, callbacks=[estp])\n",
    "# evaluate model\n",
    "_, acc = model.evaluate(testX, testY, verbose=0)\n",
    "print(' ')\n",
    "print('Accuracy on Test Set -> %.3f' % (acc * 100.0))\n",
    "# stores scores\n",
    "scores2.append(acc)\n",
    "histories2.append(history)"
   ]
  },
  {
   "cell_type": "code",
   "execution_count": null,
   "id": "chief-latter",
   "metadata": {},
   "outputs": [],
   "source": [
    "summarize_diagnostics(histories2)"
   ]
  }
 ],
 "metadata": {
  "kernelspec": {
   "display_name": "Python 3",
   "language": "python",
   "name": "python3"
  },
  "language_info": {
   "codemirror_mode": {
    "name": "ipython",
    "version": 3
   },
   "file_extension": ".py",
   "mimetype": "text/x-python",
   "name": "python",
   "nbconvert_exporter": "python",
   "pygments_lexer": "ipython3",
   "version": "3.6.13"
  }
 },
 "nbformat": 4,
 "nbformat_minor": 5
}
