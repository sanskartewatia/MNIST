{
 "cells": [
  {
   "cell_type": "code",
   "execution_count": 1,
   "id": "sorted-vietnamese",
   "metadata": {},
   "outputs": [],
   "source": [
    "# effect of batchnorm\n",
    "\n",
    "\n",
    "from tensorflow import keras \n",
    "import tensorflow as tf\n",
    "from tensorflow.keras.utils import to_categorical\n",
    "from numpy import mean\n",
    "from numpy import std\n",
    "from matplotlib import pyplot\n",
    "from tensorflow.keras import layers\n",
    "from sklearn.model_selection import KFold\n",
    "from tensorflow.keras.datasets import mnist\n",
    "from tensorflow.keras.models import Sequential\n",
    "from tensorflow.keras.layers import Conv2D\n",
    "from tensorflow.keras.layers import MaxPooling2D\n",
    "from tensorflow.keras.layers import Dense\n",
    "from tensorflow.keras.layers import Flatten\n",
    "from tensorflow.keras.layers import BatchNormalization\n",
    "from tensorflow.keras.layers import Dropout\n",
    "from tensorflow.keras.optimizers import SGD\n",
    "from tensorflow.keras.optimizers import Adam\n",
    "from tensorflow.keras.callbacks import EarlyStopping\n",
    "from sklearn.utils import shuffle\n",
    "from sklearn.preprocessing import MinMaxScaler\n",
    "from sklearn import preprocessing"
   ]
  },
  {
   "cell_type": "code",
   "execution_count": 2,
   "id": "abroad-register",
   "metadata": {},
   "outputs": [],
   "source": [
    "(trainX, trainY), (testX, testY) = mnist.load_data()\n",
    "trainX = trainX.reshape((trainX.shape[0], 28, 28, 1))\n",
    "testX = testX.reshape((testX.shape[0], 28, 28, 1))\n",
    "trainY = to_categorical(trainY)\n",
    "testY = to_categorical(testY)\n",
    "\t\n",
    "train_norm = trainX.astype('float32')\n",
    "test_norm = testX.astype('float32')\n",
    "train_norm = train_norm / 255.0\n",
    "test_norm = test_norm / 255.0\n"
   ]
  },
  {
   "cell_type": "code",
   "execution_count": null,
   "id": "informative-reconstruction",
   "metadata": {},
   "outputs": [
    {
     "name": "stdout",
     "output_type": "stream",
     "text": [
      "Epoch 1/40\n",
      "1688/1688 - 5s - loss: 0.1626 - accuracy: 0.9498 - val_loss: 0.0675 - val_accuracy: 0.9815\n",
      "Epoch 2/40\n",
      "1688/1688 - 4s - loss: 0.0579 - accuracy: 0.9820 - val_loss: 0.0595 - val_accuracy: 0.9823\n",
      "Epoch 3/40\n",
      "1688/1688 - 4s - loss: 0.0425 - accuracy: 0.9866 - val_loss: 0.0425 - val_accuracy: 0.9880\n",
      "Epoch 4/40\n",
      "1688/1688 - 4s - loss: 0.0319 - accuracy: 0.9897 - val_loss: 0.0531 - val_accuracy: 0.9848\n",
      "Epoch 5/40\n",
      "1688/1688 - 4s - loss: 0.0259 - accuracy: 0.9917 - val_loss: 0.0368 - val_accuracy: 0.9888\n",
      "Epoch 6/40\n",
      "1688/1688 - 5s - loss: 0.0210 - accuracy: 0.9937 - val_loss: 0.0341 - val_accuracy: 0.9913\n",
      "Epoch 7/40\n",
      "1688/1688 - 5s - loss: 0.0170 - accuracy: 0.9947 - val_loss: 0.0362 - val_accuracy: 0.9900\n",
      "Epoch 8/40\n",
      "1688/1688 - 5s - loss: 0.0137 - accuracy: 0.9958 - val_loss: 0.0415 - val_accuracy: 0.9900\n",
      "Epoch 9/40\n",
      "1688/1688 - 5s - loss: 0.0124 - accuracy: 0.9961 - val_loss: 0.0357 - val_accuracy: 0.9908\n",
      "Epoch 10/40\n",
      "1688/1688 - 5s - loss: 0.0108 - accuracy: 0.9968 - val_loss: 0.0346 - val_accuracy: 0.9912\n",
      "Epoch 11/40\n",
      "1688/1688 - 4s - loss: 0.0093 - accuracy: 0.9972 - val_loss: 0.0289 - val_accuracy: 0.9935\n",
      "Epoch 12/40\n",
      "1688/1688 - 5s - loss: 0.0085 - accuracy: 0.9971 - val_loss: 0.0329 - val_accuracy: 0.9920\n",
      "Epoch 13/40\n"
     ]
    }
   ],
   "source": [
    "scores, histories = list(), list()\n",
    "model = Sequential()\n",
    "model.add(Conv2D(32, (3, 3), activation='relu', kernel_initializer='he_uniform', input_shape=(28, 28, 1)))\n",
    "model.add(Conv2D(32, (3, 3), activation='relu', kernel_initializer='he_uniform', input_shape=(28, 28, 1)))\n",
    "model.add(MaxPooling2D((2, 2)))\n",
    "model.add(Conv2D(32, (3, 3), activation='relu', kernel_initializer='he_uniform', input_shape=(28, 28, 1)))\n",
    "model.add(Conv2D(32, (3, 3), activation='relu', kernel_initializer='he_uniform', input_shape=(28, 28, 1)))\n",
    "model.add(BatchNormalization())\n",
    "model.add(MaxPooling2D((2, 2)))\n",
    "model.add(Flatten())\n",
    "model.add(Dense(1024, activation='relu', kernel_initializer='he_uniform'))\n",
    "model.add(Dropout(0.1))\n",
    "model.add(Dense(512, activation='relu', kernel_initializer='he_uniform'))\n",
    "model.add(Dense(128, activation='relu', kernel_initializer='he_uniform'))\n",
    "model.add(Dense(10, activation='softmax'))\n",
    "# compile model\n",
    "opt = SGD(learning_rate=0.001, momentum=0.9)\n",
    "model.compile(optimizer=opt, loss='categorical_crossentropy', metrics=['accuracy'])\n",
    "estp = EarlyStopping(monitor='val_loss', min_delta=0.0005,patience=8, verbose=1, mode='auto',restore_best_weights=True)\n",
    "history = model.fit(train_norm, trainY, epochs=40, batch_size=32, validation_split=0.1,shuffle='True',verbose=2, callbacks=[estp])\n",
    "_, acc = model.evaluate(testX, testY, verbose=0)\n",
    "print(' ')\n",
    "print('> %.3f' % (acc * 100.0))\n",
    "scores.append(acc)\n",
    "histories.append(history)"
   ]
  },
  {
   "cell_type": "code",
   "execution_count": 24,
   "id": "resident-motor",
   "metadata": {},
   "outputs": [
    {
     "name": "stdout",
     "output_type": "stream",
     "text": [
      " \n"
     ]
    },
    {
     "data": {
      "image/png": "[encoded data removed]",
      "text/plain": [
       "<Figure size 432x288 with 2 Axes>"
      ]
     },
     "metadata": {
      "needs_background": "light"
     },
     "output_type": "display_data"
    }
   ],
   "source": [
    "for i in range(len(histories)):\n",
    "\t\t# plot loss\n",
    "\tpyplot.subplot(2, 1, 1)\n",
    "\tpyplot.title('Cross Entropy Loss')\n",
    "\tpyplot.plot(histories[i].history['loss'], color='blue', label='train')\n",
    "\tpyplot.plot(histories[i].history['val_loss'], color='orange', label='test')\n",
    "\n",
    "pyplot.show()"
   ]
  },
  {
   "cell_type": "code",
   "execution_count": null,
   "id": "flush-living",
   "metadata": {},
   "outputs": [],
   "source": [
    "for i in range(len(histories)):\n",
    "    pyplot.subplot(2, 1, 2)\n",
    "    pyplot.title('Classification Accuracy')\n",
    "    pyplot.plot(histories[i].history['accuracy'], color='blue', label='train')\n",
    "    pyplot.plot(histories[i].history['val_accuracy'], color='orange', label='test')\n",
    "pyplot.show()"
   ]
  }
 ],
 "metadata": {
  "kernelspec": {
   "display_name": "Python 3",
   "language": "python",
   "name": "python3"
  },
  "language_info": {
   "codemirror_mode": {
    "name": "ipython",
    "version": 3
   },
   "file_extension": ".py",
   "mimetype": "text/x-python",
   "name": "python",
   "nbconvert_exporter": "python",
   "pygments_lexer": "ipython3",
   "version": "3.6.13"
  }
 },
 "nbformat": 4,
 "nbformat_minor": 5
}
