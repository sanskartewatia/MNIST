{
 "cells": [
  {
   "cell_type": "code",
   "execution_count": 14,
   "id": "appreciated-combining",
   "metadata": {},
   "outputs": [],
   "source": [
    "# effect of adding more CONV2D layers\n",
    "\n",
    "\n",
    "from tensorflow import keras \n",
    "import tensorflow as tf\n",
    "from tensorflow.keras.utils import to_categorical\n",
    "from numpy import mean\n",
    "from numpy import std\n",
    "from matplotlib import pyplot\n",
    "from tensorflow.keras import layers\n",
    "from sklearn.model_selection import KFold\n",
    "from tensorflow.keras.datasets import mnist\n",
    "from tensorflow.keras.models import Sequential\n",
    "from tensorflow.keras.layers import Conv2D\n",
    "from tensorflow.keras.layers import MaxPooling2D\n",
    "from tensorflow.keras.layers import Dense\n",
    "from tensorflow.keras.layers import Flatten\n",
    "from tensorflow.keras.layers import BatchNormalization\n",
    "from tensorflow.keras.layers import Dropout\n",
    "from tensorflow.keras.optimizers import SGD\n",
    "from tensorflow.keras.optimizers import Adam\n",
    "from tensorflow.keras.callbacks import EarlyStopping\n",
    "from sklearn.utils import shuffle\n",
    "from sklearn.preprocessing import MinMaxScaler\n",
    "from sklearn import preprocessing"
   ]
  },
  {
   "cell_type": "code",
   "execution_count": 15,
   "id": "generic-friendly",
   "metadata": {},
   "outputs": [],
   "source": [
    "(trainX, trainY), (testX, testY) = mnist.load_data()\n",
    "trainX = trainX.reshape((trainX.shape[0], 28, 28, 1))\n",
    "testX = testX.reshape((testX.shape[0], 28, 28, 1))\n",
    "trainY = to_categorical(trainY)\n",
    "testY = to_categorical(testY)\n",
    "\t\n",
    "train_norm = trainX.astype('float32')\n",
    "test_norm = testX.astype('float32')\n",
    "train_norm = train_norm / 255.0\n",
    "test_norm = test_norm / 255.0\n"
   ]
  },
  {
   "cell_type": "code",
   "execution_count": 18,
   "id": "champion-overall",
   "metadata": {},
   "outputs": [
    {
     "name": "stdout",
     "output_type": "stream",
     "text": [
      "Epoch 1/40\n",
      "1688/1688 - 4s - loss: 0.2352 - accuracy: 0.9262 - val_loss: 0.0773 - val_accuracy: 0.9777\n",
      "Epoch 2/40\n",
      "1688/1688 - 4s - loss: 0.0776 - accuracy: 0.9754 - val_loss: 0.0546 - val_accuracy: 0.9837\n",
      "Epoch 3/40\n",
      "1688/1688 - 4s - loss: 0.0541 - accuracy: 0.9828 - val_loss: 0.0431 - val_accuracy: 0.9878\n",
      "Epoch 4/40\n",
      "1688/1688 - 5s - loss: 0.0417 - accuracy: 0.9868 - val_loss: 0.0454 - val_accuracy: 0.9878\n",
      "Epoch 5/40\n",
      "1688/1688 - 5s - loss: 0.0348 - accuracy: 0.9884 - val_loss: 0.0344 - val_accuracy: 0.9898\n",
      "Epoch 6/40\n",
      "1688/1688 - 4s - loss: 0.0279 - accuracy: 0.9909 - val_loss: 0.0386 - val_accuracy: 0.9873\n",
      "Epoch 7/40\n",
      "1688/1688 - 5s - loss: 0.0247 - accuracy: 0.9921 - val_loss: 0.0344 - val_accuracy: 0.9902\n",
      "Epoch 8/40\n",
      "1688/1688 - 4s - loss: 0.0198 - accuracy: 0.9930 - val_loss: 0.0375 - val_accuracy: 0.9897\n",
      "Epoch 9/40\n",
      "1688/1688 - 5s - loss: 0.0180 - accuracy: 0.9941 - val_loss: 0.0336 - val_accuracy: 0.9905\n",
      "Epoch 10/40\n",
      "1688/1688 - 5s - loss: 0.0152 - accuracy: 0.9948 - val_loss: 0.0350 - val_accuracy: 0.9910\n",
      "Epoch 11/40\n",
      "1688/1688 - 5s - loss: 0.0139 - accuracy: 0.9956 - val_loss: 0.0298 - val_accuracy: 0.9907\n",
      "Epoch 12/40\n",
      "1688/1688 - 5s - loss: 0.0113 - accuracy: 0.9964 - val_loss: 0.0295 - val_accuracy: 0.9915\n",
      "Epoch 13/40\n",
      "1688/1688 - 5s - loss: 0.0107 - accuracy: 0.9964 - val_loss: 0.0318 - val_accuracy: 0.9912\n",
      "Epoch 14/40\n",
      "1688/1688 - 5s - loss: 0.0089 - accuracy: 0.9973 - val_loss: 0.0349 - val_accuracy: 0.9910\n",
      "Epoch 15/40\n",
      "1688/1688 - 5s - loss: 0.0075 - accuracy: 0.9973 - val_loss: 0.0316 - val_accuracy: 0.9913\n",
      "Epoch 16/40\n",
      "1688/1688 - 5s - loss: 0.0071 - accuracy: 0.9975 - val_loss: 0.0308 - val_accuracy: 0.9920\n",
      "Epoch 17/40\n",
      "1688/1688 - 5s - loss: 0.0062 - accuracy: 0.9978 - val_loss: 0.0311 - val_accuracy: 0.9927\n",
      "Epoch 18/40\n",
      "1688/1688 - 5s - loss: 0.0058 - accuracy: 0.9980 - val_loss: 0.0339 - val_accuracy: 0.9925\n",
      "Epoch 19/40\n",
      "Restoring model weights from the end of the best epoch.\n",
      "1688/1688 - 5s - loss: 0.0056 - accuracy: 0.9980 - val_loss: 0.0331 - val_accuracy: 0.9915\n",
      "Epoch 00019: early stopping\n",
      " \n",
      "> 99.220\n"
     ]
    }
   ],
   "source": [
    "scores, histories = list(), list()\n",
    "model = Sequential()\n",
    "model.add(Conv2D(32, (3, 3), activation='relu', kernel_initializer='he_uniform', input_shape=(28, 28, 1)))\n",
    "model.add(Conv2D(32, (3, 3), activation='relu', kernel_initializer='he_uniform', input_shape=(28, 28, 1)))\n",
    "model.add(MaxPooling2D((2, 2)))\n",
    "model.add(Conv2D(32, (3, 3), activation='relu', kernel_initializer='he_uniform', input_shape=(28, 28, 1)))\n",
    "model.add(Conv2D(32, (3, 3), activation='relu', kernel_initializer='he_uniform', input_shape=(28, 28, 1)))\n",
    "model.add(MaxPooling2D((2, 2)))\n",
    "model.add(Flatten())\n",
    "model.add(Dense(1024, activation='relu', kernel_initializer='he_uniform'))\n",
    "model.add(Dropout(0.1))\n",
    "model.add(Dense(512, activation='relu', kernel_initializer='he_uniform'))\n",
    "model.add(Dense(128, activation='relu', kernel_initializer='he_uniform'))\n",
    "model.add(Dense(10, activation='softmax'))\n",
    "# compile model\n",
    "opt = SGD(learning_rate=0.001, momentum=0.9)\n",
    "model.compile(optimizer=opt, loss='categorical_crossentropy', metrics=['accuracy'])\n",
    "estp = EarlyStopping(monitor='val_loss', min_delta=0.0005,patience=8, verbose=1, mode='auto',restore_best_weights=True)\n",
    "history = model.fit(train_norm, trainY, epochs=40, batch_size=32, validation_split=0.1,shuffle='True',verbose=2, callbacks=[estp])\n",
    "_, acc = model.evaluate(testX, testY, verbose=0)\n",
    "print(' ')\n",
    "print('> %.3f' % (acc * 100.0))\n",
    "scores.append(acc)\n",
    "histories.append(history)"
   ]
  },
  {
   "cell_type": "code",
   "execution_count": 25,
   "id": "earned-invite",
   "metadata": {},
   "outputs": [
    {
     "data": {
      "image/png": "[encoded data removed]",
      "text/plain": [
       "<Figure size 432x288 with 1 Axes>"
      ]
     },
     "metadata": {
      "needs_background": "light"
     },
     "output_type": "display_data"
    }
   ],
   "source": [
    "for i in range(len(histories)):\n",
    "\t\t# plot loss\n",
    "\tpyplot.subplot(2, 1, 1)\n",
    "\tpyplot.title('Cross Entropy Loss')\n",
    "\tpyplot.plot(histories[i].history['loss'], color='blue', label='train')\n",
    "\tpyplot.plot(histories[i].history['val_loss'], color='orange', label='test')\n",
    "\n",
    "pyplot.show()"
   ]
  },
  {
   "cell_type": "code",
   "execution_count": 28,
   "id": "progressive-upper",
   "metadata": {},
   "outputs": [
    {
     "data": {
      "image/png": "[encoded data removed]",
      "text/plain": [
       "<Figure size 432x288 with 1 Axes>"
      ]
     },
     "metadata": {
      "needs_background": "light"
     },
     "output_type": "display_data"
    }
   ],
   "source": [
    "for i in range(len(histories)):\n",
    "    pyplot.subplot(2, 1, 2)\n",
    "    pyplot.title('Classification Accuracy')\n",
    "    pyplot.plot(histories[i].history['accuracy'], color='blue', label='train')\n",
    "    pyplot.plot(histories[i].history['val_accuracy'], color='orange', label='test')\n",
    "pyplot.show()"
   ]
  },
  {
   "cell_type": "code",
   "execution_count": null,
   "id": "vertical-webmaster",
   "metadata": {},
   "outputs": [],
   "source": []
  }
 ],
 "metadata": {
  "kernelspec": {
   "display_name": "Python 3",
   "language": "python",
   "name": "python3"
  },
  "language_info": {
   "codemirror_mode": {
    "name": "ipython",
    "version": 3
   },
   "file_extension": ".py",
   "mimetype": "text/x-python",
   "name": "python",
   "nbconvert_exporter": "python",
   "pygments_lexer": "ipython3",
   "version": "3.6.13"
  }
 },
 "nbformat": 4,
 "nbformat_minor": 5
}
