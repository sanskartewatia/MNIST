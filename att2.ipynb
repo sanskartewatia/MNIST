{
 "cells": [
  {
   "cell_type": "code",
   "execution_count": 1,
   "id": "gorgeous-polish",
   "metadata": {},
   "outputs": [],
   "source": [
    "# effect of increasing layers\n",
    "\n",
    "\n",
    "from tensorflow import keras \n",
    "import tensorflow as tf\n",
    "from tensorflow.keras.utils import to_categorical\n",
    "from numpy import mean\n",
    "from numpy import std\n",
    "from matplotlib import pyplot\n",
    "from tensorflow.keras import layers\n",
    "from sklearn.model_selection import KFold\n",
    "from tensorflow.keras.datasets import mnist\n",
    "from tensorflow.keras.models import Sequential\n",
    "from tensorflow.keras.layers import Conv2D\n",
    "from tensorflow.keras.layers import MaxPooling2D\n",
    "from tensorflow.keras.layers import Dense\n",
    "from tensorflow.keras.layers import Flatten\n",
    "from tensorflow.keras.optimizers import SGD\n",
    "from tensorflow.keras.optimizers import Adam\n",
    "from tensorflow.keras.callbacks import EarlyStopping\n",
    "from sklearn.utils import shuffle\n",
    "from sklearn.preprocessing import MinMaxScaler\n",
    "from sklearn import preprocessing"
   ]
  },
  {
   "cell_type": "code",
   "execution_count": 2,
   "id": "speaking-contact",
   "metadata": {},
   "outputs": [],
   "source": [
    "(trainX, trainY), (testX, testY) = mnist.load_data()\n",
    "trainX = trainX.reshape((trainX.shape[0], 28, 28, 1))\n",
    "testX = testX.reshape((testX.shape[0], 28, 28, 1))\n",
    "trainY = to_categorical(trainY)\n",
    "testY = to_categorical(testY)\n",
    "\t\n",
    "train_norm = trainX.astype('float32')\n",
    "test_norm = testX.astype('float32')\n",
    "train_norm = train_norm / 255.0\n",
    "test_norm = test_norm / 255.0\n"
   ]
  },
  {
   "cell_type": "code",
   "execution_count": 5,
   "id": "consecutive-bradley",
   "metadata": {},
   "outputs": [
    {
     "name": "stdout",
     "output_type": "stream",
     "text": [
      "Epoch 1/20\n",
      "3375/3375 - 8s - loss: 0.1866 - accuracy: 0.9439 - val_loss: 0.0851 - val_accuracy: 0.9760\n",
      "Epoch 2/20\n",
      "3375/3375 - 8s - loss: 0.0654 - accuracy: 0.9796 - val_loss: 0.0568 - val_accuracy: 0.9843\n",
      "Epoch 3/20\n",
      "3375/3375 - 8s - loss: 0.0398 - accuracy: 0.9879 - val_loss: 0.0471 - val_accuracy: 0.9883\n",
      "Epoch 4/20\n",
      "3375/3375 - 9s - loss: 0.0267 - accuracy: 0.9920 - val_loss: 0.0403 - val_accuracy: 0.9892\n",
      "Epoch 5/20\n",
      "3375/3375 - 8s - loss: 0.0176 - accuracy: 0.9946 - val_loss: 0.0458 - val_accuracy: 0.9888\n",
      "Epoch 6/20\n",
      "3375/3375 - 9s - loss: 0.0110 - accuracy: 0.9969 - val_loss: 0.0470 - val_accuracy: 0.9882\n",
      "Epoch 7/20\n",
      "3375/3375 - 9s - loss: 0.0078 - accuracy: 0.9979 - val_loss: 0.0446 - val_accuracy: 0.9890\n",
      "Epoch 8/20\n",
      "3375/3375 - 8s - loss: 0.0053 - accuracy: 0.9987 - val_loss: 0.0461 - val_accuracy: 0.9877\n",
      "Epoch 9/20\n",
      "Restoring model weights from the end of the best epoch.\n",
      "3375/3375 - 8s - loss: 0.0031 - accuracy: 0.9995 - val_loss: 0.0431 - val_accuracy: 0.9907\n",
      "Epoch 00009: early stopping\n",
      " \n",
      "> 98.680\n"
     ]
    }
   ],
   "source": [
    "scores, histories = list(), list()\n",
    "model = Sequential()\n",
    "model.add(Conv2D(32, (3, 3), activation='relu', kernel_initializer='he_uniform', input_shape=(28, 28, 1)))\n",
    "model.add(Conv2D(32, (3, 3), activation='relu', kernel_initializer='he_uniform', input_shape=(28, 28, 1)))\n",
    "model.add(MaxPooling2D((2, 2)))\n",
    "model.add(Flatten())\n",
    "model.add(Dense(1000, activation='relu', kernel_initializer='he_uniform'))\n",
    "model.add(Dense(500, activation='relu', kernel_initializer='he_uniform'))\n",
    "model.add(Dense(10, activation='softmax'))\n",
    "# compile model\n",
    "opt = SGD(learning_rate=0.001, momentum=0.9)\n",
    "model.compile(optimizer=opt, loss='categorical_crossentropy', metrics=['accuracy'])\n",
    "estp = EarlyStopping(monitor='val_loss', min_delta=0.001,patience=5, verbose=1, mode='auto',restore_best_weights=True)\n",
    "history = model.fit(train_norm, trainY, epochs=20, batch_size=16, validation_split=0.1,shuffle='True',verbose=2, callbacks=[estp])\n",
    "_, acc = model.evaluate(testX, testY, verbose=0)\n",
    "print(' ')\n",
    "print('> %.3f' % (acc * 100.0))\n",
    "scores.append(acc)\n",
    "histories.append(history)"
   ]
  },
  {
   "cell_type": "code",
   "execution_count": 6,
   "id": "ethical-lover",
   "metadata": {},
   "outputs": [
    {
     "data": {
      "image/png": "[encoded data removed]",
      "text/plain": [
       "<Figure size 432x288 with 2 Axes>"
      ]
     },
     "metadata": {
      "needs_background": "light"
     },
     "output_type": "display_data"
    }
   ],
   "source": [
    "for i in range(len(histories)):\n",
    "\t\t# plot loss\n",
    "\tpyplot.subplot(2, 1, 1)\n",
    "\tpyplot.title('Cross Entropy Loss')\n",
    "\tpyplot.plot(histories[i].history['loss'], color='blue', label='train')\n",
    "\tpyplot.plot(histories[i].history['val_loss'], color='orange', label='test')\n",
    "\t# plot accuracy\n",
    "\tpyplot.subplot(2, 1, 2)\n",
    "\tpyplot.title('Classification Accuracy')\n",
    "\tpyplot.plot(histories[i].history['accuracy'], color='blue', label='train')\n",
    "\tpyplot.plot(histories[i].history['val_accuracy'], color='orange', label='test')\n",
    "pyplot.show()"
   ]
  },
  {
   "cell_type": "code",
   "execution_count": null,
   "id": "right-packing",
   "metadata": {},
   "outputs": [],
   "source": []
  }
 ],
 "metadata": {
  "kernelspec": {
   "display_name": "Python 3",
   "language": "python",
   "name": "python3"
  },
  "language_info": {
   "codemirror_mode": {
    "name": "ipython",
    "version": 3
   },
   "file_extension": ".py",
   "mimetype": "text/x-python",
   "name": "python",
   "nbconvert_exporter": "python",
   "pygments_lexer": "ipython3",
   "version": "3.6.13"
  }
 },
 "nbformat": 4,
 "nbformat_minor": 5
}
